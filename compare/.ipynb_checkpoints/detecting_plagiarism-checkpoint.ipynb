{
 "cells": [
  {
   "cell_type": "markdown",
   "metadata": {},
   "source": [
    "# Plágiumdetektor"
   ]
  },
  {
   "cell_type": "markdown",
   "metadata": {},
   "source": [
    "A mappában található `moss` nevű Perl-szkripttel lehet beküldeni a Stanford szerverének az összehasonlítandó kódokat.\n",
    "\n",
    "Nekem itt most három próbaszkriptem van, amik ugyanannak a Python-függvénynek a verziói:\n",
    "* az eredeti\n",
    "* a kicserélt változónevekkel operáló - ezt jól kezeli, hasonló marad az új kód az eredetihez\n",
    "* a sorok sorrendjét megcserélő - itt már csak egymásra matchelő blokkokat talál"
   ]
  },
  {
   "cell_type": "markdown",
   "metadata": {},
   "source": [
    "## Detektálás"
   ]
  },
  {
   "cell_type": "markdown",
   "metadata": {},
   "source": [
    "Az összes `proba*` nevű szkript beküldése a szervernek."
   ]
  },
  {
   "cell_type": "code",
   "execution_count": 3,
   "metadata": {
    "collapsed": false
   },
   "outputs": [],
   "source": [
    "%%bash\n",
    "\n",
    "./moss -l python proba*.py | tail -n1 > moss_result"
   ]
  },
  {
   "cell_type": "markdown",
   "metadata": {},
   "source": [
    "Meg lehet nézni egy példakimenetet:"
   ]
  },
  {
   "cell_type": "code",
   "execution_count": 101,
   "metadata": {
    "collapsed": false
   },
   "outputs": [
    {
     "name": "stdout",
     "output_type": "stream",
     "text": [
      "http://moss.stanford.edu/results/577466543\n"
     ]
    }
   ],
   "source": [
    "print (open(\"moss_result\").read().strip(\"\\n\"))"
   ]
  },
  {
   "cell_type": "markdown",
   "metadata": {},
   "source": [
    "## Eredmény kiolvasása"
   ]
  },
  {
   "cell_type": "markdown",
   "metadata": {},
   "source": [
    "A szerveren keletkező html olvasása, struktúrába töltése, xpath kifejezés segítségével a táblázat elemeinek kinyerése:"
   ]
  },
  {
   "cell_type": "code",
   "execution_count": 30,
   "metadata": {
    "collapsed": false
   },
   "outputs": [],
   "source": [
    "from lxml import html\n",
    "\n",
    "tree=html.parse(open(\"moss_result\").read().strip(\"\\n\"))\n",
    "comparison=tree.xpath(\"//tr//td/*\")"
   ]
  },
  {
   "cell_type": "markdown",
   "metadata": {},
   "source": [
    "Éllista formában a fájlpárok és a közöttük levő hasonlóság eltárolása:"
   ]
  },
  {
   "cell_type": "code",
   "execution_count": 54,
   "metadata": {
    "collapsed": false
   },
   "outputs": [
    {
     "data": {
      "text/plain": [
       "[('proba1.py', 'proba2.py', {'weight': 0.95}),\n",
       " ('proba2.py', 'proba3.py', {'weight': 0.57}),\n",
       " ('proba1.py', 'proba3.py', {'weight': 0.57})]"
      ]
     },
     "execution_count": 54,
     "metadata": {},
     "output_type": "execute_result"
    }
   ],
   "source": [
    "edgelist=[]\n",
    "for n,x in enumerate(comparison):\n",
    "    if n%2==0:\n",
    "        edge=[x.text.split(\" \")[0]]\n",
    "    else:\n",
    "        edge.append(x.text.split(\" \")[0])\n",
    "        edge.append({\"weight\":float(x.text.split(\" \")[1].strip(\"()%\"))/100})\n",
    "        edgelist.append(tuple(edge))\n",
    "edgelist"
   ]
  },
  {
   "cell_type": "markdown",
   "metadata": {},
   "source": [
    "## Ábrázolás"
   ]
  },
  {
   "cell_type": "markdown",
   "metadata": {},
   "source": [
    "Az egész ábrázolása egy gráfként, ahol az élek vastagsága a hasonlóságot jelenti, a csúcsok az egyes fájlok."
   ]
  },
  {
   "cell_type": "code",
   "execution_count": 52,
   "metadata": {
    "collapsed": true
   },
   "outputs": [],
   "source": [
    "import networkx as nx\n",
    "%matplotlib inline"
   ]
  },
  {
   "cell_type": "code",
   "execution_count": 61,
   "metadata": {
    "collapsed": false
   },
   "outputs": [],
   "source": [
    "G=nx.from_edgelist(edgelist)"
   ]
  },
  {
   "cell_type": "code",
   "execution_count": 89,
   "metadata": {
    "collapsed": true
   },
   "outputs": [],
   "source": [
    "import matplotlib.pyplot as plt\n",
    "plt.rcParams[\"figure.figsize\"]=15,10"
   ]
  },
  {
   "cell_type": "code",
   "execution_count": 98,
   "metadata": {
    "collapsed": false
   },
   "outputs": [
    {
     "data": {
      "text/plain": [
       "(-0.20000000000000001,\n",
       " 1.2000000000000002,\n",
       " -0.10000000000000001,\n",
       " 0.60000000000000009)"
      ]
     },
     "execution_count": 98,
     "metadata": {},
     "output_type": "execute_result"
    },
    {
     "data": {
      "image/png": "[encoded data removed]",
      "text/plain": [
       "<matplotlib.figure.Figure at 0x7fe1919872b0>"
      ]
     },
     "metadata": {},
     "output_type": "display_data"
    }
   ],
   "source": [
    "pos=nx.spring_layout(G)\n",
    "weights = [G[u][v]['weight']*10 for u,v in G.edges()]\n",
    "labels={key:key for key in G.nodes()}\n",
    "\n",
    "\n",
    "nx.draw_networkx_nodes(G,pos,alpha=0.8,node_size=1000)\n",
    "nx.draw_networkx_labels(G,pos)\n",
    "nx.draw_networkx_edges(G,pos,width=weights,alpha=0.6)\n",
    "plt.axis('off')"
   ]
  },
  {
   "cell_type": "markdown",
   "metadata": {},
   "source": [
    "## Adjacenciamátrix, heatmap"
   ]
  },
  {
   "cell_type": "markdown",
   "metadata": {},
   "source": [
    "Természetesen ebből könnyedén kinyerhetjük az adjacenciamátrixot:"
   ]
  },
  {
   "cell_type": "code",
   "execution_count": 105,
   "metadata": {
    "collapsed": false
   },
   "outputs": [
    {
     "data": {
      "text/plain": [
       "matrix([[ 0.  ,  0.95,  0.57],\n",
       "        [ 0.95,  0.  ,  0.57],\n",
       "        [ 0.57,  0.57,  0.  ]])"
      ]
     },
     "execution_count": 105,
     "metadata": {},
     "output_type": "execute_result"
    }
   ],
   "source": [
    "A=nx.adjacency_matrix(G).todense()\n",
    "A"
   ]
  },
  {
   "cell_type": "code",
   "execution_count": 106,
   "metadata": {
    "collapsed": false
   },
   "outputs": [],
   "source": [
    "import numpy as np"
   ]
  },
  {
   "cell_type": "code",
   "execution_count": 119,
   "metadata": {
    "collapsed": false
   },
   "outputs": [
    {
     "data": {
      "image/png": "[encoded data removed]",
      "text/plain": [
       "<matplotlib.figure.Figure at 0x7fe1919b9390>"
      ]
     },
     "metadata": {},
     "output_type": "display_data"
    }
   ],
   "source": [
    "plt.imshow(A,interpolation='nearest',cmap=\"hot\")\n",
    "plt.xticks(range(3),G.nodes())\n",
    "plt.yticks(range(3),G.nodes())\n",
    "plt.colorbar()\n",
    "plt.show()"
   ]
  },
  {
   "cell_type": "markdown",
   "metadata": {},
   "source": [
    "## Tesztelés notebook-okra"
   ]
  },
  {
   "cell_type": "code",
   "execution_count": 1,
   "metadata": {
    "collapsed": true
   },
   "outputs": [],
   "source": [
    "%%bash\n",
    "\n",
    "./moss -l python proba*.ipynb -b base.ipynb | tail -n1 > moss_result"
   ]
  },
  {
   "cell_type": "code",
   "execution_count": 2,
   "metadata": {
    "collapsed": false
   },
   "outputs": [
    {
     "name": "stdout",
     "output_type": "stream",
     "text": [
      "http://moss.stanford.edu/results/21425865\n"
     ]
    }
   ],
   "source": [
    "print (open(\"moss_result\").read().strip(\"\\n\"))"
   ]
  },
  {
   "cell_type": "code",
   "execution_count": null,
   "metadata": {
    "collapsed": true
   },
   "outputs": [],
   "source": []
  }
 ],
 "metadata": {
  "anaconda-cloud": {},
  "hide_input": false,
  "kernelspec": {
   "display_name": "Python [conda env:py35]",
   "language": "python",
   "name": "conda-env-py35-py"
  },
  "language_info": {
   "codemirror_mode": {
    "name": "ipython",
    "version": 3
   },
   "file_extension": ".py",
   "mimetype": "text/x-python",
   "name": "python",
   "nbconvert_exporter": "python",
   "pygments_lexer": "ipython3",
   "version": "3.5.1"
  },
  "toc": {
   "toc_cell": false,
   "toc_number_sections": true,
   "toc_threshold": 6,
   "toc_window_display": false
  }
 },
 "nbformat": 4,
 "nbformat_minor": 0
}
