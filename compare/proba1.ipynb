{
 "cells": [
  {
   "cell_type": "code",
   "execution_count": null,
   "metadata": {
    "collapsed": true
   },
   "outputs": [],
   "source": [
    "def PlotWords(Person1,Person2):\n",
    "    df[\"Word\"]=df.index\n",
    "    df[\"Word\"]=df.apply(lambda row: CutOff(row,Person1,Person2,0.0004),axis=1)\n",
    "\n",
    "    p = figure(plot_width=800)\n",
    "    p.xaxis.axis_label=Person1\n",
    "    p.yaxis.axis_label=Person2\n",
    "\n",
    "    source = ColumnDataSource(df)\n",
    "\n",
    "    p.scatter(Person1, Person2, source=source)\n",
    "    labels = LabelSet(x=Person1, y=Person2, text=\"Word\",\n",
    "                      text_font_size=\"8pt\", text_color=\"#555555\",\n",
    "                      source=source, text_align='center',)\n",
    "\n",
    "    p.add_layout(labels)\n",
    "\n",
    "    p.line([0,0.05],[0,0.05])\n",
    "    \n",
    "    output_file(Person1+\"_\"+Person2+\"_WordFreq.html\")\n",
    "    show(p)"
   ]
  }
 ],
 "metadata": {
  "anaconda-cloud": {},
  "hide_input": false,
  "kernelspec": {
   "display_name": "Python [default]",
   "language": "python",
   "name": "python2"
  },
  "language_info": {
   "codemirror_mode": {
    "name": "ipython",
    "version": 2
   },
   "file_extension": ".py",
   "mimetype": "text/x-python",
   "name": "python",
   "nbconvert_exporter": "python",
   "pygments_lexer": "ipython2",
   "version": "2.7.11"
  },
  "toc": {
   "toc_cell": false,
   "toc_number_sections": true,
   "toc_threshold": 6,
   "toc_window_display": false
  }
 },
 "nbformat": 4,
 "nbformat_minor": 0
}
