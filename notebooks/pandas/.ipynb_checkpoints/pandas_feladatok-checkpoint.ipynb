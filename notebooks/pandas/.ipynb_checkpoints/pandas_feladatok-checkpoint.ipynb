{
 "cells": [
  {
   "cell_type": "markdown",
   "metadata": {},
   "source": [
    "## Feladatok\n",
    "\n",
    "A `Megoldás` mappában megtalálható az `osztaly.csv` fájl. Ez egy osztály öt témazáróra `[T1,T2,T3,T4,T5]` kapott jegyeit tartalmazza néhány plusz információval (`Nem`, `Kor`, `Fakt`) kiegészítve. A `Fakt` oszlopban az 1-es azt jelöli, hogy az adott ember jár matekfaktra.\n",
    "\n",
    "1. Olvasd be a fájlt egy DataFrame-be! Vigyázz arra, hogy a szövegfájlban a mezők a `#` jellel vannak elválasztva. (Ha a fejlécet és az indexet automatikusan készíted (nem adsz meg semmit), akkor az index 0-tól növekvő számsorozat, a fejléc pedig a szövegfájl első sora lesz, a további munkához ezek elegendők.)\n",
    "\n",
    "2. Rendezd a táblázatot névsor szerint úgy, hogy az az előző, nem rendezett táblázatot felülírja!\n",
    "\n",
    "3. Minden emberhez számold ki az 5 dolgozatának átlagát! Ábrázold ezt egy ploton is.\n",
    "\n",
    "4. Hány darab faktos lány van?\n",
    "\n",
    "5. Írasd ki a 16 évesek neveit!\n",
    "\n",
    "6. ☠ Mennyi lett a különböző korú emberek dolgozatainak átlaga? Ábrázold ezt egy ploton is.\n",
    "\n",
    "7. ☠ Hányféle férfi keresztnév szerepel a táblázatban?\n",
    "\n",
    "8. ☠ Készíts egy táblázatot, amelyben a sorok a különböző korcsoportok, az oszlopok a nemek, az értékek pedig a kor/nem szerinti dolgozatátlagok!"
   ]
  }
 ],
 "metadata": {
  "anaconda-cloud": {},
  "hide_input": false,
  "kernelspec": {
   "display_name": "Python [conda env:py35]",
   "language": "python",
   "name": "conda-env-py35-py"
  },
  "language_info": {
   "codemirror_mode": {
    "name": "ipython",
    "version": 3
   },
   "file_extension": ".py",
   "mimetype": "text/x-python",
   "name": "python",
   "nbconvert_exporter": "python",
   "pygments_lexer": "ipython3",
   "version": "3.5.1"
  },
  "toc": {
   "toc_cell": false,
   "toc_number_sections": true,
   "toc_threshold": 6,
   "toc_window_display": false
  }
 },
 "nbformat": 4,
 "nbformat_minor": 0
}
