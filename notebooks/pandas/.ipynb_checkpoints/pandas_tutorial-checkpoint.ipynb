{
 "cells": [
  {
   "cell_type": "markdown",
   "metadata": {},
   "source": [
    "# A Pandas könyvtár\n",
    "\n",
    "Mérési vagy szimulációs adatainkat gyakran célszerűbb a puszta számokat tartalmazó *list* vagy *numpy.array* adatszerkezet helyett a *pandas* könyvtár *DataFrame* osztályában tárolunk, ahol a számok mellett feliratozni is tudjuk a sorokat, illetve oszlopokat, illetve a különböző oszlopokban különböző adattípusok lehetnek.\n",
    "\n",
    "A *DataFrame*-re gondolhatunk úgy, mint egy szokásos Excel-táblázatra, az osztályhoz tartozó függvények egy része ugyanis nagyon hasonlít a táblázatkezelőkből ismertekére. Használata első ránézésre talán bonyolultnak tűnhet, de mindenképpen megéri a befektetett energiát.\n",
    "\n",
    "A szokásos import:"
   ]
  },
  {
   "cell_type": "code",
   "execution_count": 1,
   "metadata": {
    "collapsed": true
   },
   "outputs": [],
   "source": [
    "import pandas as pd"
   ]
  },
  {
   "cell_type": "markdown",
   "metadata": {},
   "source": [
    "## Beolvasás fájlból"
   ]
  },
  {
   "cell_type": "markdown",
   "metadata": {},
   "source": [
    "Ha már az Excelt emlegettük, tényleg beolvashatunk xls-fájlokat. A notebook szépen formázza a kimenetet."
   ]
  },
  {
   "cell_type": "code",
   "execution_count": 2,
   "metadata": {
    "collapsed": false
   },
   "outputs": [
    {
     "data": {
      "text/html": [
       "<div>\n",
       "<table border=\"1\" class=\"dataframe\">\n",
       "  <thead>\n",
       "    <tr style=\"text-align: right;\">\n",
       "      <th></th>\n",
       "      <th>Eszter</th>\n",
       "      <th>Orsi</th>\n",
       "      <th>Nem</th>\n",
       "      <th>Kor</th>\n",
       "    </tr>\n",
       "  </thead>\n",
       "  <tbody>\n",
       "    <tr>\n",
       "      <th>Bálint</th>\n",
       "      <td>2</td>\n",
       "      <td>3</td>\n",
       "      <td>fiú</td>\n",
       "      <td>20</td>\n",
       "    </tr>\n",
       "    <tr>\n",
       "      <th>Csenge</th>\n",
       "      <td>4</td>\n",
       "      <td>4</td>\n",
       "      <td>lány</td>\n",
       "      <td>22</td>\n",
       "    </tr>\n",
       "    <tr>\n",
       "      <th>István</th>\n",
       "      <td>5</td>\n",
       "      <td>4</td>\n",
       "      <td>fiú</td>\n",
       "      <td>19</td>\n",
       "    </tr>\n",
       "    <tr>\n",
       "      <th>Zita</th>\n",
       "      <td>3</td>\n",
       "      <td>5</td>\n",
       "      <td>lány</td>\n",
       "      <td>20</td>\n",
       "    </tr>\n",
       "  </tbody>\n",
       "</table>\n",
       "</div>"
      ],
      "text/plain": [
       "        Eszter  Orsi   Nem  Kor\n",
       "Bálint       2     3   fiú   20\n",
       "Csenge       4     4  lány   22\n",
       "István       5     4   fiú   19\n",
       "Zita         3     5  lány   20"
      ]
     },
     "execution_count": 2,
     "metadata": {},
     "output_type": "execute_result"
    }
   ],
   "source": [
    "pd.read_excel(\"kisnevsor.xlsx\")"
   ]
  },
  {
   "cell_type": "markdown",
   "metadata": {},
   "source": [
    "Legtöbbször azonban vesszővel vagy tabulátorral elválasztott értékeket (amit a `sep` kulcsszóval állíthatunk be, ha szükséges) olvasunk be egyszerű szövegfájlokból. Itt be kell állítanunk, hogy a táblázatunk tartalmaz-e fejlécet (`header`), illetve hogy a soroknak van-e nevük (`index`).\n",
    "\n",
    "Az alapértelmezett beállítás megpróbálja kitalálni, hogy van-e fejléc, és a sorokat magától megszámozza."
   ]
  },
  {
   "cell_type": "code",
   "execution_count": 3,
   "metadata": {
    "collapsed": false
   },
   "outputs": [
    {
     "data": {
      "text/html": [
       "<div>\n",
       "<table border=\"1\" class=\"dataframe\">\n",
       "  <thead>\n",
       "    <tr style=\"text-align: right;\">\n",
       "      <th></th>\n",
       "      <th>Unnamed: 0</th>\n",
       "      <th>Eszter</th>\n",
       "      <th>Orsi</th>\n",
       "      <th>Nem</th>\n",
       "      <th>Kor</th>\n",
       "    </tr>\n",
       "  </thead>\n",
       "  <tbody>\n",
       "    <tr>\n",
       "      <th>0</th>\n",
       "      <td>Bálint</td>\n",
       "      <td>2</td>\n",
       "      <td>3</td>\n",
       "      <td>fiú</td>\n",
       "      <td>20</td>\n",
       "    </tr>\n",
       "    <tr>\n",
       "      <th>1</th>\n",
       "      <td>Csenge</td>\n",
       "      <td>4</td>\n",
       "      <td>4</td>\n",
       "      <td>lány</td>\n",
       "      <td>22</td>\n",
       "    </tr>\n",
       "    <tr>\n",
       "      <th>2</th>\n",
       "      <td>István</td>\n",
       "      <td>5</td>\n",
       "      <td>4</td>\n",
       "      <td>fiú</td>\n",
       "      <td>19</td>\n",
       "    </tr>\n",
       "    <tr>\n",
       "      <th>3</th>\n",
       "      <td>Zita</td>\n",
       "      <td>3</td>\n",
       "      <td>5</td>\n",
       "      <td>lány</td>\n",
       "      <td>20</td>\n",
       "    </tr>\n",
       "  </tbody>\n",
       "</table>\n",
       "</div>"
      ],
      "text/plain": [
       "  Unnamed: 0  Eszter  Orsi   Nem  Kor\n",
       "0     Bálint       2     3   fiú   20\n",
       "1     Csenge       4     4  lány   22\n",
       "2     István       5     4   fiú   19\n",
       "3       Zita       3     5  lány   20"
      ]
     },
     "execution_count": 3,
     "metadata": {},
     "output_type": "execute_result"
    }
   ],
   "source": [
    "pd.read_csv(\"kisnevsor.csv\")"
   ]
  },
  {
   "cell_type": "markdown",
   "metadata": {},
   "source": [
    "Mi viszont azt szeretnénk, ha a legelső oszlopot a sorok neveiként olvasnánk be, mint az exceles esetben."
   ]
  },
  {
   "cell_type": "code",
   "execution_count": 4,
   "metadata": {
    "collapsed": false
   },
   "outputs": [
    {
     "data": {
      "text/html": [
       "<div>\n",
       "<table border=\"1\" class=\"dataframe\">\n",
       "  <thead>\n",
       "    <tr style=\"text-align: right;\">\n",
       "      <th></th>\n",
       "      <th>Eszter</th>\n",
       "      <th>Orsi</th>\n",
       "      <th>Nem</th>\n",
       "      <th>Kor</th>\n",
       "    </tr>\n",
       "  </thead>\n",
       "  <tbody>\n",
       "    <tr>\n",
       "      <th>Bálint</th>\n",
       "      <td>2</td>\n",
       "      <td>3</td>\n",
       "      <td>fiú</td>\n",
       "      <td>20</td>\n",
       "    </tr>\n",
       "    <tr>\n",
       "      <th>Csenge</th>\n",
       "      <td>4</td>\n",
       "      <td>4</td>\n",
       "      <td>lány</td>\n",
       "      <td>22</td>\n",
       "    </tr>\n",
       "    <tr>\n",
       "      <th>István</th>\n",
       "      <td>5</td>\n",
       "      <td>4</td>\n",
       "      <td>fiú</td>\n",
       "      <td>19</td>\n",
       "    </tr>\n",
       "    <tr>\n",
       "      <th>Zita</th>\n",
       "      <td>3</td>\n",
       "      <td>5</td>\n",
       "      <td>lány</td>\n",
       "      <td>20</td>\n",
       "    </tr>\n",
       "  </tbody>\n",
       "</table>\n",
       "</div>"
      ],
      "text/plain": [
       "        Eszter  Orsi   Nem  Kor\n",
       "Bálint       2     3   fiú   20\n",
       "Csenge       4     4  lány   22\n",
       "István       5     4   fiú   19\n",
       "Zita         3     5  lány   20"
      ]
     },
     "execution_count": 4,
     "metadata": {},
     "output_type": "execute_result"
    }
   ],
   "source": [
    "pd.read_csv(\"kisnevsor.csv\",index_col=0)"
   ]
  },
  {
   "cell_type": "markdown",
   "metadata": {},
   "source": [
    "Most a fejlécbeolvasót kikapcsoljuk. Így az első sor ismeretlen (`NaN`) sorfelirattal bekerül az értékek elé, az oszlopok pedig 0-tól számozódnak."
   ]
  },
  {
   "cell_type": "code",
   "execution_count": 5,
   "metadata": {
    "collapsed": false
   },
   "outputs": [
    {
     "data": {
      "text/html": [
       "<div>\n",
       "<table border=\"1\" class=\"dataframe\">\n",
       "  <thead>\n",
       "    <tr style=\"text-align: right;\">\n",
       "      <th></th>\n",
       "      <th>1</th>\n",
       "      <th>2</th>\n",
       "      <th>3</th>\n",
       "      <th>4</th>\n",
       "    </tr>\n",
       "    <tr>\n",
       "      <th>0</th>\n",
       "      <th></th>\n",
       "      <th></th>\n",
       "      <th></th>\n",
       "      <th></th>\n",
       "    </tr>\n",
       "  </thead>\n",
       "  <tbody>\n",
       "    <tr>\n",
       "      <th>NaN</th>\n",
       "      <td>Eszter</td>\n",
       "      <td>Orsi</td>\n",
       "      <td>Nem</td>\n",
       "      <td>Kor</td>\n",
       "    </tr>\n",
       "    <tr>\n",
       "      <th>Bálint</th>\n",
       "      <td>2</td>\n",
       "      <td>3</td>\n",
       "      <td>fiú</td>\n",
       "      <td>20</td>\n",
       "    </tr>\n",
       "    <tr>\n",
       "      <th>Csenge</th>\n",
       "      <td>4</td>\n",
       "      <td>4</td>\n",
       "      <td>lány</td>\n",
       "      <td>22</td>\n",
       "    </tr>\n",
       "    <tr>\n",
       "      <th>István</th>\n",
       "      <td>5</td>\n",
       "      <td>4</td>\n",
       "      <td>fiú</td>\n",
       "      <td>19</td>\n",
       "    </tr>\n",
       "    <tr>\n",
       "      <th>Zita</th>\n",
       "      <td>3</td>\n",
       "      <td>5</td>\n",
       "      <td>lány</td>\n",
       "      <td>20</td>\n",
       "    </tr>\n",
       "  </tbody>\n",
       "</table>\n",
       "</div>"
      ],
      "text/plain": [
       "             1     2     3    4\n",
       "0                              \n",
       "NaN     Eszter  Orsi   Nem  Kor\n",
       "Bálint       2     3   fiú   20\n",
       "Csenge       4     4  lány   22\n",
       "István       5     4   fiú   19\n",
       "Zita         3     5  lány   20"
      ]
     },
     "execution_count": 5,
     "metadata": {},
     "output_type": "execute_result"
    }
   ],
   "source": [
    "pd.read_csv(\"kisnevsor.csv\",header=None,index_col=0)"
   ]
  },
  {
   "cell_type": "markdown",
   "metadata": {},
   "source": [
    "## Adatok elérése"
   ]
  },
  {
   "cell_type": "markdown",
   "metadata": {},
   "source": [
    "A *pandas* a *DataFrame*-ben tárolt értékeket elsősorban a fejléccel és a sorok neveivel teszi elérhetővé.\n",
    "\n",
    "Ha egy oszlop nevét *string*ként szögletes zárójelekben írjuk a *DataFrame* neve mögé, visszakapjuk az oszlopot."
   ]
  },
  {
   "cell_type": "code",
   "execution_count": 6,
   "metadata": {
    "collapsed": false
   },
   "outputs": [
    {
     "name": "stdout",
     "output_type": "stream",
     "text": [
      "Bálint    2\n",
      "Csenge    4\n",
      "István    5\n",
      "Zita      3\n",
      "Name: Eszter, dtype: int64\n"
     ]
    }
   ],
   "source": [
    "df=pd.read_csv(\"kisnevsor.csv\",index_col=0)\n",
    "print(df[\"Eszter\"])"
   ]
  },
  {
   "cell_type": "markdown",
   "metadata": {},
   "source": [
    "Ha több oszlopot is vissza szeretnénk kapni, akkor azokat egy stringeket tartalmazó listában írjuk a *DataFrame* mögötti szögletes zárójelbe."
   ]
  },
  {
   "cell_type": "code",
   "execution_count": 7,
   "metadata": {
    "collapsed": false
   },
   "outputs": [
    {
     "data": {
      "text/html": [
       "<div>\n",
       "<table border=\"1\" class=\"dataframe\">\n",
       "  <thead>\n",
       "    <tr style=\"text-align: right;\">\n",
       "      <th></th>\n",
       "      <th>Eszter</th>\n",
       "      <th>Nem</th>\n",
       "      <th>Kor</th>\n",
       "    </tr>\n",
       "  </thead>\n",
       "  <tbody>\n",
       "    <tr>\n",
       "      <th>Bálint</th>\n",
       "      <td>2</td>\n",
       "      <td>fiú</td>\n",
       "      <td>20</td>\n",
       "    </tr>\n",
       "    <tr>\n",
       "      <th>Csenge</th>\n",
       "      <td>4</td>\n",
       "      <td>lány</td>\n",
       "      <td>22</td>\n",
       "    </tr>\n",
       "    <tr>\n",
       "      <th>István</th>\n",
       "      <td>5</td>\n",
       "      <td>fiú</td>\n",
       "      <td>19</td>\n",
       "    </tr>\n",
       "    <tr>\n",
       "      <th>Zita</th>\n",
       "      <td>3</td>\n",
       "      <td>lány</td>\n",
       "      <td>20</td>\n",
       "    </tr>\n",
       "  </tbody>\n",
       "</table>\n",
       "</div>"
      ],
      "text/plain": [
       "        Eszter   Nem  Kor\n",
       "Bálint       2   fiú   20\n",
       "Csenge       4  lány   22\n",
       "István       5   fiú   19\n",
       "Zita         3  lány   20"
      ]
     },
     "execution_count": 7,
     "metadata": {},
     "output_type": "execute_result"
    }
   ],
   "source": [
    "df[[\"Eszter\",\"Nem\",\"Kor\"]]"
   ]
  },
  {
   "cell_type": "markdown",
   "metadata": {},
   "source": [
    "Ha egy oszlopnak szeretnénk elérni az egyik elemét:"
   ]
  },
  {
   "cell_type": "code",
   "execution_count": 8,
   "metadata": {
    "collapsed": false
   },
   "outputs": [
    {
     "name": "stdout",
     "output_type": "stream",
     "text": [
      "3\n"
     ]
    }
   ],
   "source": [
    "print(df[\"Eszter\"][\"Zita\"])"
   ]
  },
  {
   "cell_type": "markdown",
   "metadata": {},
   "source": [
    "Vigyázat, mindig először az oszlop nevét írtuk! Ha egy sort szeretnénk visszakapni, az `ix` objektumot kell használunk."
   ]
  },
  {
   "cell_type": "code",
   "execution_count": 9,
   "metadata": {
    "collapsed": false
   },
   "outputs": [
    {
     "data": {
      "text/plain": [
       "Eszter       3\n",
       "Orsi         5\n",
       "Nem       lány\n",
       "Kor         20\n",
       "Name: Zita, dtype: object"
      ]
     },
     "execution_count": 9,
     "metadata": {},
     "output_type": "execute_result"
    }
   ],
   "source": [
    "df.ix[\"Zita\"]"
   ]
  },
  {
   "cell_type": "markdown",
   "metadata": {},
   "source": [
    "Aki szeretné ugyanúgy számokkal indexelni a *DataFrame*-et, mint egy *array*-t, annak erre az `iloc` biztosít lehetőséget. Nézzük meg az előző eléréseket `iloc`-kal!"
   ]
  },
  {
   "cell_type": "code",
   "execution_count": 10,
   "metadata": {
    "collapsed": false
   },
   "outputs": [
    {
     "data": {
      "text/plain": [
       "Bálint    2\n",
       "Csenge    4\n",
       "István    5\n",
       "Zita      3\n",
       "Name: Eszter, dtype: int64"
      ]
     },
     "execution_count": 10,
     "metadata": {},
     "output_type": "execute_result"
    }
   ],
   "source": [
    "df.iloc[:,0] # az első (0.) oszlop"
   ]
  },
  {
   "cell_type": "code",
   "execution_count": 11,
   "metadata": {
    "collapsed": false
   },
   "outputs": [
    {
     "data": {
      "text/plain": [
       "2"
      ]
     },
     "execution_count": 11,
     "metadata": {},
     "output_type": "execute_result"
    }
   ],
   "source": [
    "df.iloc[0,0]  # az első sor első eleme"
   ]
  },
  {
   "cell_type": "markdown",
   "metadata": {},
   "source": [
    "Sőt, a *DataFrame* belsejét átalakíthatjuk *numpy* *array*-jé, és alkalmazhatjuk rá a korábban tanult módszereket :-)"
   ]
  },
  {
   "cell_type": "code",
   "execution_count": 12,
   "metadata": {
    "collapsed": false
   },
   "outputs": [
    {
     "data": {
      "text/plain": [
       "array([[2, 3, 'fiú', 20],\n",
       "       [4, 4, 'lány', 22],\n",
       "       [5, 4, 'fiú', 19],\n",
       "       [3, 5, 'lány', 20]], dtype=object)"
      ]
     },
     "execution_count": 12,
     "metadata": {},
     "output_type": "execute_result"
    }
   ],
   "source": [
    "df.as_matrix()"
   ]
  },
  {
   "cell_type": "markdown",
   "metadata": {},
   "source": [
    "### Az oszlopnevek és a sornevek elérése"
   ]
  },
  {
   "cell_type": "markdown",
   "metadata": {},
   "source": [
    "Írassuk ki a táblázatunk oszlopainak a nevét!"
   ]
  },
  {
   "cell_type": "code",
   "execution_count": 13,
   "metadata": {
    "collapsed": false
   },
   "outputs": [
    {
     "data": {
      "text/plain": [
       "Index(['Eszter', 'Orsi', 'Nem', 'Kor'], dtype='object')"
      ]
     },
     "execution_count": 13,
     "metadata": {},
     "output_type": "execute_result"
    }
   ],
   "source": [
    "df.columns"
   ]
  },
  {
   "cell_type": "markdown",
   "metadata": {},
   "source": [
    "Írassuk ki a táblázatunk sorainak a nevét!"
   ]
  },
  {
   "cell_type": "code",
   "execution_count": 14,
   "metadata": {
    "collapsed": false
   },
   "outputs": [
    {
     "data": {
      "text/plain": [
       "Index(['Bálint', 'Csenge', 'István', 'Zita'], dtype='object')"
      ]
     },
     "execution_count": 14,
     "metadata": {},
     "output_type": "execute_result"
    }
   ],
   "source": [
    "df.index"
   ]
  },
  {
   "cell_type": "markdown",
   "metadata": {},
   "source": [
    "Szükség lehet rá, hogy a fenti listákat tényleg Python-féle *list*-ként kapjuk vissza."
   ]
  },
  {
   "cell_type": "code",
   "execution_count": 15,
   "metadata": {
    "collapsed": false
   },
   "outputs": [
    {
     "data": {
      "text/plain": [
       "['Eszter', 'Orsi', 'Nem', 'Kor']"
      ]
     },
     "execution_count": 15,
     "metadata": {},
     "output_type": "execute_result"
    }
   ],
   "source": [
    "df.columns.tolist()"
   ]
  },
  {
   "cell_type": "code",
   "execution_count": 16,
   "metadata": {
    "collapsed": false
   },
   "outputs": [
    {
     "data": {
      "text/plain": [
       "['Eszter', 'Orsi', 'Nem', 'Kor']"
      ]
     },
     "execution_count": 16,
     "metadata": {},
     "output_type": "execute_result"
    }
   ],
   "source": [
    "list(df.columns)"
   ]
  },
  {
   "cell_type": "markdown",
   "metadata": {},
   "source": [
    "## Egyszerű sor- és oszlopműveletek"
   ]
  },
  {
   "cell_type": "markdown",
   "metadata": {},
   "source": [
    "A *DataFrame*-re is könnyű néhány beépített függvény segítségével különböző aggregált értékeket számolni.\n",
    "\n",
    "Például álljon itt oszloponként a számok összege:"
   ]
  },
  {
   "cell_type": "code",
   "execution_count": 17,
   "metadata": {
    "collapsed": false
   },
   "outputs": [
    {
     "data": {
      "text/plain": [
       "Eszter                14\n",
       "Orsi                  16\n",
       "Nem       fiúlányfiúlány\n",
       "Kor                   81\n",
       "dtype: object"
      ]
     },
     "execution_count": 17,
     "metadata": {},
     "output_type": "execute_result"
    }
   ],
   "source": [
    "df.sum()"
   ]
  },
  {
   "cell_type": "markdown",
   "metadata": {},
   "source": [
    "Mit tegyünk, ha ezt soronként szeretnénk visszakapni? Változtassuk meg az összegzés \"tengelyét\" (`axis`)! Az előző eset ugyanis az alapértelmezett `axis=0` volt, ami oszoponként végzi a műveletet. Csak a jegyeket tartalmazó oszlopokat összegezzük."
   ]
  },
  {
   "cell_type": "code",
   "execution_count": 18,
   "metadata": {
    "collapsed": false
   },
   "outputs": [
    {
     "data": {
      "text/plain": [
       "Bálint    5\n",
       "Csenge    8\n",
       "István    9\n",
       "Zita      8\n",
       "dtype: int64"
      ]
     },
     "execution_count": 18,
     "metadata": {},
     "output_type": "execute_result"
    }
   ],
   "source": [
    "df[[\"Eszter\",\"Orsi\"]].sum(axis=1)"
   ]
  },
  {
   "cell_type": "markdown",
   "metadata": {},
   "source": [
    "Számoltassuk meg, hány elem van az oszlopokban, illetve a sorokban!"
   ]
  },
  {
   "cell_type": "code",
   "execution_count": 19,
   "metadata": {
    "collapsed": false
   },
   "outputs": [
    {
     "data": {
      "text/plain": [
       "Eszter    4\n",
       "Orsi      4\n",
       "Nem       4\n",
       "Kor       4\n",
       "dtype: int64"
      ]
     },
     "execution_count": 19,
     "metadata": {},
     "output_type": "execute_result"
    }
   ],
   "source": [
    "df.count()"
   ]
  },
  {
   "cell_type": "code",
   "execution_count": 20,
   "metadata": {
    "collapsed": false
   },
   "outputs": [
    {
     "data": {
      "text/plain": [
       "Bálint    4\n",
       "Csenge    4\n",
       "István    4\n",
       "Zita      4\n",
       "dtype: int64"
      ]
     },
     "execution_count": 20,
     "metadata": {},
     "output_type": "execute_result"
    }
   ],
   "source": [
    "df.count(axis=1)"
   ]
  },
  {
   "cell_type": "markdown",
   "metadata": {},
   "source": [
    "Ezt persze az *array*-hez hasonlóan is megtehettük volna:"
   ]
  },
  {
   "cell_type": "code",
   "execution_count": 21,
   "metadata": {
    "collapsed": false
   },
   "outputs": [
    {
     "data": {
      "text/plain": [
       "(4, 4)"
      ]
     },
     "execution_count": 21,
     "metadata": {},
     "output_type": "execute_result"
    }
   ],
   "source": [
    "df.shape"
   ]
  },
  {
   "cell_type": "markdown",
   "metadata": {},
   "source": [
    "További ötletek beépített függvényekre: `mean, median, min, max, std`."
   ]
  },
  {
   "cell_type": "markdown",
   "metadata": {},
   "source": [
    "## Boolean indexing"
   ]
  },
  {
   "cell_type": "markdown",
   "metadata": {},
   "source": [
    "Nagyon gyakran előfordul, hogy a táblázatunkból csak bizonyos feltételeknek megfelelő sorokat szeretnénk látni. Ha a táblázat sorainak számával megegyező hosszú igaz/hamis sorozatot adunk meg a *DataFrame* mögötti szögletes zárójelben, akkor csak az igaz elemeket fogjuk visszakapni visszatérési értékként.\n",
    "\n",
    "Először nézzük meg, mi történik, ha megkérdezzük, hogy egy oszlop egyenlő-e egy értékkel:"
   ]
  },
  {
   "cell_type": "code",
   "execution_count": 22,
   "metadata": {
    "collapsed": false
   },
   "outputs": [
    {
     "data": {
      "text/plain": [
       "Bálint    False\n",
       "Csenge     True\n",
       "István    False\n",
       "Zita       True\n",
       "Name: Nem, dtype: bool"
      ]
     },
     "execution_count": 22,
     "metadata": {},
     "output_type": "execute_result"
    }
   ],
   "source": [
    "df[\"Nem\"]==\"lány\""
   ]
  },
  {
   "cell_type": "markdown",
   "metadata": {},
   "source": [
    "Láttuk, hogy minden sorhoz kaptunk egy igaz/hamis értéket. Most a fenti kifejezést beírjuk a `[]`-be:"
   ]
  },
  {
   "cell_type": "code",
   "execution_count": 23,
   "metadata": {
    "collapsed": false
   },
   "outputs": [
    {
     "data": {
      "text/html": [
       "<div>\n",
       "<table border=\"1\" class=\"dataframe\">\n",
       "  <thead>\n",
       "    <tr style=\"text-align: right;\">\n",
       "      <th></th>\n",
       "      <th>Eszter</th>\n",
       "      <th>Orsi</th>\n",
       "      <th>Nem</th>\n",
       "      <th>Kor</th>\n",
       "    </tr>\n",
       "  </thead>\n",
       "  <tbody>\n",
       "    <tr>\n",
       "      <th>Csenge</th>\n",
       "      <td>4</td>\n",
       "      <td>4</td>\n",
       "      <td>lány</td>\n",
       "      <td>22</td>\n",
       "    </tr>\n",
       "    <tr>\n",
       "      <th>Zita</th>\n",
       "      <td>3</td>\n",
       "      <td>5</td>\n",
       "      <td>lány</td>\n",
       "      <td>20</td>\n",
       "    </tr>\n",
       "  </tbody>\n",
       "</table>\n",
       "</div>"
      ],
      "text/plain": [
       "        Eszter  Orsi   Nem  Kor\n",
       "Csenge       4     4  lány   22\n",
       "Zita         3     5  lány   20"
      ]
     },
     "execution_count": 23,
     "metadata": {},
     "output_type": "execute_result"
    }
   ],
   "source": [
    "df[df[\"Nem\"]==\"lány\"]"
   ]
  },
  {
   "cell_type": "markdown",
   "metadata": {},
   "source": [
    "De más feltételt is megadhatunk, például hogy kinek adott Eszter 3-asnál jobb jegyet."
   ]
  },
  {
   "cell_type": "code",
   "execution_count": 24,
   "metadata": {
    "collapsed": false
   },
   "outputs": [
    {
     "data": {
      "text/html": [
       "<div>\n",
       "<table border=\"1\" class=\"dataframe\">\n",
       "  <thead>\n",
       "    <tr style=\"text-align: right;\">\n",
       "      <th></th>\n",
       "      <th>Eszter</th>\n",
       "      <th>Orsi</th>\n",
       "      <th>Nem</th>\n",
       "      <th>Kor</th>\n",
       "    </tr>\n",
       "  </thead>\n",
       "  <tbody>\n",
       "    <tr>\n",
       "      <th>Csenge</th>\n",
       "      <td>4</td>\n",
       "      <td>4</td>\n",
       "      <td>lány</td>\n",
       "      <td>22</td>\n",
       "    </tr>\n",
       "    <tr>\n",
       "      <th>István</th>\n",
       "      <td>5</td>\n",
       "      <td>4</td>\n",
       "      <td>fiú</td>\n",
       "      <td>19</td>\n",
       "    </tr>\n",
       "  </tbody>\n",
       "</table>\n",
       "</div>"
      ],
      "text/plain": [
       "        Eszter  Orsi   Nem  Kor\n",
       "Csenge       4     4  lány   22\n",
       "István       5     4   fiú   19"
      ]
     },
     "execution_count": 24,
     "metadata": {},
     "output_type": "execute_result"
    }
   ],
   "source": [
    "df[df[\"Eszter\"]>3]"
   ]
  },
  {
   "cell_type": "markdown",
   "metadata": {},
   "source": [
    "Két feltételt összefűzhetünk egymáshoz, ilyenkor a `&` és a `|` operátorokat használjuk **and** és **or** helyett, mert azok nem tudnak két sorozatot elemenként összehasonlítani. A feltételeket zárójelbe kell tenni, különben hibát kapunk.\n",
    "\n",
    "Ezek alapján az, akinek Eszter hármasnál jobbat adott, és idősebb 20 évesnél:"
   ]
  },
  {
   "cell_type": "code",
   "execution_count": 25,
   "metadata": {
    "collapsed": false
   },
   "outputs": [
    {
     "data": {
      "text/html": [
       "<div>\n",
       "<table border=\"1\" class=\"dataframe\">\n",
       "  <thead>\n",
       "    <tr style=\"text-align: right;\">\n",
       "      <th></th>\n",
       "      <th>Eszter</th>\n",
       "      <th>Orsi</th>\n",
       "      <th>Nem</th>\n",
       "      <th>Kor</th>\n",
       "    </tr>\n",
       "  </thead>\n",
       "  <tbody>\n",
       "    <tr>\n",
       "      <th>Csenge</th>\n",
       "      <td>4</td>\n",
       "      <td>4</td>\n",
       "      <td>lány</td>\n",
       "      <td>22</td>\n",
       "    </tr>\n",
       "  </tbody>\n",
       "</table>\n",
       "</div>"
      ],
      "text/plain": [
       "        Eszter  Orsi   Nem  Kor\n",
       "Csenge       4     4  lány   22"
      ]
     },
     "execution_count": 25,
     "metadata": {},
     "output_type": "execute_result"
    }
   ],
   "source": [
    "df[(df[\"Eszter\"]>3) & (df[\"Kor\"]>20)]"
   ]
  },
  {
   "cell_type": "markdown",
   "metadata": {},
   "source": [
    "## Sorba rendezés"
   ]
  },
  {
   "cell_type": "markdown",
   "metadata": {},
   "source": [
    "Szükségünk lehet arra, hogy a táblázatunkat sorba rendezzük valamelyik oszlop szerint. Ilyenkor a `sort_values(by=\"oszlop_neve\")` függvényt használjuk, melynek megadhatjuk, hogy növekvő (`ascending=True`), vagy csökkenő (`ascending=False`) sorrendben szeretnénk-e a rendezést.\n",
    "\n",
    "A függvény visszatérési értéke a rendezett táblázat."
   ]
  },
  {
   "cell_type": "code",
   "execution_count": 26,
   "metadata": {
    "collapsed": false
   },
   "outputs": [
    {
     "data": {
      "text/html": [
       "<div>\n",
       "<table border=\"1\" class=\"dataframe\">\n",
       "  <thead>\n",
       "    <tr style=\"text-align: right;\">\n",
       "      <th></th>\n",
       "      <th>Eszter</th>\n",
       "      <th>Orsi</th>\n",
       "      <th>Nem</th>\n",
       "      <th>Kor</th>\n",
       "    </tr>\n",
       "  </thead>\n",
       "  <tbody>\n",
       "    <tr>\n",
       "      <th>Csenge</th>\n",
       "      <td>4</td>\n",
       "      <td>4</td>\n",
       "      <td>lány</td>\n",
       "      <td>22</td>\n",
       "    </tr>\n",
       "    <tr>\n",
       "      <th>Bálint</th>\n",
       "      <td>2</td>\n",
       "      <td>3</td>\n",
       "      <td>fiú</td>\n",
       "      <td>20</td>\n",
       "    </tr>\n",
       "    <tr>\n",
       "      <th>Zita</th>\n",
       "      <td>3</td>\n",
       "      <td>5</td>\n",
       "      <td>lány</td>\n",
       "      <td>20</td>\n",
       "    </tr>\n",
       "    <tr>\n",
       "      <th>István</th>\n",
       "      <td>5</td>\n",
       "      <td>4</td>\n",
       "      <td>fiú</td>\n",
       "      <td>19</td>\n",
       "    </tr>\n",
       "  </tbody>\n",
       "</table>\n",
       "</div>"
      ],
      "text/plain": [
       "        Eszter  Orsi   Nem  Kor\n",
       "Csenge       4     4  lány   22\n",
       "Bálint       2     3   fiú   20\n",
       "Zita         3     5  lány   20\n",
       "István       5     4   fiú   19"
      ]
     },
     "execution_count": 26,
     "metadata": {},
     "output_type": "execute_result"
    }
   ],
   "source": [
    "df.sort_values(by=\"Kor\",ascending=False)"
   ]
  },
  {
   "cell_type": "markdown",
   "metadata": {},
   "source": [
    "Ha azt szeretnénk, hogy az eredeti *DataFrame*-ben rendezve tárolódjanak el a sorok, be kell kapcsolnunk az `inplace=True` paramétert, ami felülírja a *DataFrame*-et a rendezés után."
   ]
  },
  {
   "cell_type": "code",
   "execution_count": 27,
   "metadata": {
    "collapsed": false
   },
   "outputs": [],
   "source": [
    "df.sort_values(by=\"Kor\",ascending=False,inplace=True)"
   ]
  },
  {
   "cell_type": "markdown",
   "metadata": {},
   "source": [
    "Persze, ezt elérhettük volna szokásos értékadással is."
   ]
  },
  {
   "cell_type": "code",
   "execution_count": 28,
   "metadata": {
    "collapsed": true
   },
   "outputs": [],
   "source": [
    "df=df.sort_values(by=\"Kor\",ascending=False)"
   ]
  },
  {
   "cell_type": "markdown",
   "metadata": {},
   "source": [
    "Ha a *DataFrame* indexe szerint szeretnénk sorba rendezni, akkor a `sort_index()` függvény segít (itt is választhatjuk, hogy helyben szeretnénk-e a rendezést az `inplace=True` segítségével):"
   ]
  },
  {
   "cell_type": "code",
   "execution_count": 29,
   "metadata": {
    "collapsed": false
   },
   "outputs": [],
   "source": [
    "df.sort_index(inplace=True)"
   ]
  },
  {
   "cell_type": "markdown",
   "metadata": {},
   "source": [
    "## Új sor/oszlop hozzáadása, törlés"
   ]
  },
  {
   "cell_type": "markdown",
   "metadata": {},
   "source": [
    "Ha új sort szeretnénk hozzáadni a táblázathoz, akkor a `.loc[\"Új_sor_indexe\"]` változónak egy, az oszlopok számával megegyező hosszúságú listát kell odaadnunk."
   ]
  },
  {
   "cell_type": "code",
   "execution_count": 30,
   "metadata": {
    "collapsed": false
   },
   "outputs": [
    {
     "data": {
      "text/html": [
       "<div>\n",
       "<table border=\"1\" class=\"dataframe\">\n",
       "  <thead>\n",
       "    <tr style=\"text-align: right;\">\n",
       "      <th></th>\n",
       "      <th>Eszter</th>\n",
       "      <th>Orsi</th>\n",
       "      <th>Nem</th>\n",
       "      <th>Kor</th>\n",
       "    </tr>\n",
       "  </thead>\n",
       "  <tbody>\n",
       "    <tr>\n",
       "      <th>Bálint</th>\n",
       "      <td>2</td>\n",
       "      <td>3</td>\n",
       "      <td>fiú</td>\n",
       "      <td>20</td>\n",
       "    </tr>\n",
       "    <tr>\n",
       "      <th>Csenge</th>\n",
       "      <td>4</td>\n",
       "      <td>4</td>\n",
       "      <td>lány</td>\n",
       "      <td>22</td>\n",
       "    </tr>\n",
       "    <tr>\n",
       "      <th>István</th>\n",
       "      <td>5</td>\n",
       "      <td>4</td>\n",
       "      <td>fiú</td>\n",
       "      <td>19</td>\n",
       "    </tr>\n",
       "    <tr>\n",
       "      <th>Zita</th>\n",
       "      <td>3</td>\n",
       "      <td>5</td>\n",
       "      <td>lány</td>\n",
       "      <td>20</td>\n",
       "    </tr>\n",
       "    <tr>\n",
       "      <th>Dávid</th>\n",
       "      <td>5</td>\n",
       "      <td>5</td>\n",
       "      <td>fiú</td>\n",
       "      <td>20</td>\n",
       "    </tr>\n",
       "  </tbody>\n",
       "</table>\n",
       "</div>"
      ],
      "text/plain": [
       "        Eszter  Orsi   Nem  Kor\n",
       "Bálint       2     3   fiú   20\n",
       "Csenge       4     4  lány   22\n",
       "István       5     4   fiú   19\n",
       "Zita         3     5  lány   20\n",
       "Dávid        5     5   fiú   20"
      ]
     },
     "execution_count": 30,
     "metadata": {},
     "output_type": "execute_result"
    }
   ],
   "source": [
    "df.loc[\"Dávid\"]=[5,5,\"fiú\",20]\n",
    "df"
   ]
  },
  {
   "cell_type": "markdown",
   "metadata": {},
   "source": [
    "Ha új oszlopot, akkor hasonlóan járunk el, de nem szükséges a `loc`, mert az a sorokat indexeli."
   ]
  },
  {
   "cell_type": "code",
   "execution_count": 31,
   "metadata": {
    "collapsed": false
   },
   "outputs": [
    {
     "data": {
      "text/html": [
       "<div>\n",
       "<table border=\"1\" class=\"dataframe\">\n",
       "  <thead>\n",
       "    <tr style=\"text-align: right;\">\n",
       "      <th></th>\n",
       "      <th>Eszter</th>\n",
       "      <th>Orsi</th>\n",
       "      <th>Nem</th>\n",
       "      <th>Kor</th>\n",
       "      <th>Emelt</th>\n",
       "    </tr>\n",
       "  </thead>\n",
       "  <tbody>\n",
       "    <tr>\n",
       "      <th>Bálint</th>\n",
       "      <td>2</td>\n",
       "      <td>3</td>\n",
       "      <td>fiú</td>\n",
       "      <td>20</td>\n",
       "      <td>0</td>\n",
       "    </tr>\n",
       "    <tr>\n",
       "      <th>Csenge</th>\n",
       "      <td>4</td>\n",
       "      <td>4</td>\n",
       "      <td>lány</td>\n",
       "      <td>22</td>\n",
       "      <td>0</td>\n",
       "    </tr>\n",
       "    <tr>\n",
       "      <th>István</th>\n",
       "      <td>5</td>\n",
       "      <td>4</td>\n",
       "      <td>fiú</td>\n",
       "      <td>19</td>\n",
       "      <td>1</td>\n",
       "    </tr>\n",
       "    <tr>\n",
       "      <th>Zita</th>\n",
       "      <td>3</td>\n",
       "      <td>5</td>\n",
       "      <td>lány</td>\n",
       "      <td>20</td>\n",
       "      <td>1</td>\n",
       "    </tr>\n",
       "    <tr>\n",
       "      <th>Dávid</th>\n",
       "      <td>5</td>\n",
       "      <td>5</td>\n",
       "      <td>fiú</td>\n",
       "      <td>20</td>\n",
       "      <td>0</td>\n",
       "    </tr>\n",
       "  </tbody>\n",
       "</table>\n",
       "</div>"
      ],
      "text/plain": [
       "        Eszter  Orsi   Nem  Kor  Emelt\n",
       "Bálint       2     3   fiú   20      0\n",
       "Csenge       4     4  lány   22      0\n",
       "István       5     4   fiú   19      1\n",
       "Zita         3     5  lány   20      1\n",
       "Dávid        5     5   fiú   20      0"
      ]
     },
     "execution_count": 31,
     "metadata": {},
     "output_type": "execute_result"
    }
   ],
   "source": [
    "df[\"Emelt\"]=[0,0,1,1,0]\n",
    "df"
   ]
  },
  {
   "cell_type": "markdown",
   "metadata": {},
   "source": [
    "Ha sort szeretnénk törölni, a `drop` függvénnyel tehetjük meg."
   ]
  },
  {
   "cell_type": "code",
   "execution_count": 32,
   "metadata": {
    "collapsed": false
   },
   "outputs": [
    {
     "data": {
      "text/html": [
       "<div>\n",
       "<table border=\"1\" class=\"dataframe\">\n",
       "  <thead>\n",
       "    <tr style=\"text-align: right;\">\n",
       "      <th></th>\n",
       "      <th>Eszter</th>\n",
       "      <th>Orsi</th>\n",
       "      <th>Nem</th>\n",
       "      <th>Kor</th>\n",
       "      <th>Emelt</th>\n",
       "    </tr>\n",
       "  </thead>\n",
       "  <tbody>\n",
       "    <tr>\n",
       "      <th>Csenge</th>\n",
       "      <td>4</td>\n",
       "      <td>4</td>\n",
       "      <td>lány</td>\n",
       "      <td>22</td>\n",
       "      <td>0</td>\n",
       "    </tr>\n",
       "    <tr>\n",
       "      <th>István</th>\n",
       "      <td>5</td>\n",
       "      <td>4</td>\n",
       "      <td>fiú</td>\n",
       "      <td>19</td>\n",
       "      <td>1</td>\n",
       "    </tr>\n",
       "    <tr>\n",
       "      <th>Zita</th>\n",
       "      <td>3</td>\n",
       "      <td>5</td>\n",
       "      <td>lány</td>\n",
       "      <td>20</td>\n",
       "      <td>1</td>\n",
       "    </tr>\n",
       "    <tr>\n",
       "      <th>Dávid</th>\n",
       "      <td>5</td>\n",
       "      <td>5</td>\n",
       "      <td>fiú</td>\n",
       "      <td>20</td>\n",
       "      <td>0</td>\n",
       "    </tr>\n",
       "  </tbody>\n",
       "</table>\n",
       "</div>"
      ],
      "text/plain": [
       "        Eszter  Orsi   Nem  Kor  Emelt\n",
       "Csenge       4     4  lány   22      0\n",
       "István       5     4   fiú   19      1\n",
       "Zita         3     5  lány   20      1\n",
       "Dávid        5     5   fiú   20      0"
      ]
     },
     "execution_count": 32,
     "metadata": {},
     "output_type": "execute_result"
    }
   ],
   "source": [
    "df.drop(\"Bálint\",inplace=True)\n",
    "df"
   ]
  },
  {
   "cell_type": "markdown",
   "metadata": {},
   "source": [
    "Elég ritkán, de szeretnénk a táblázatunkból oszlopokat törölni:"
   ]
  },
  {
   "cell_type": "code",
   "execution_count": 33,
   "metadata": {
    "collapsed": false
   },
   "outputs": [],
   "source": [
    "del df[\"Kor\"] #ritkán"
   ]
  },
  {
   "cell_type": "code",
   "execution_count": 34,
   "metadata": {
    "collapsed": true
   },
   "outputs": [],
   "source": [
    "df[\"Kor\"]=[22,19,20,20]"
   ]
  },
  {
   "cell_type": "markdown",
   "metadata": {},
   "source": [
    "## Csoportosítás"
   ]
  },
  {
   "cell_type": "markdown",
   "metadata": {},
   "source": [
    "Egy oszlop értékei szerint csoportosíthatjuk a *DataFrame*-et, és utána a csoportokon végezhetünk műveleteket.\n",
    "\n",
    "Például az emelt szintű érettségit tevők (1), illtve nem tevők (0) maximum jegyeit láthatjuk a következő sorban.\n",
    "\n",
    "Figyeljük meg, hogy a `Nem` oszlop maximális értéke mindkét csoportban a `\"lány\"`, hiszen az hátrébb áll az abc-ben, mint a fiú."
   ]
  },
  {
   "cell_type": "code",
   "execution_count": 35,
   "metadata": {
    "collapsed": false
   },
   "outputs": [
    {
     "data": {
      "text/html": [
       "<div>\n",
       "<table border=\"1\" class=\"dataframe\">\n",
       "  <thead>\n",
       "    <tr style=\"text-align: right;\">\n",
       "      <th></th>\n",
       "      <th>Eszter</th>\n",
       "      <th>Orsi</th>\n",
       "      <th>Nem</th>\n",
       "      <th>Kor</th>\n",
       "    </tr>\n",
       "    <tr>\n",
       "      <th>Emelt</th>\n",
       "      <th></th>\n",
       "      <th></th>\n",
       "      <th></th>\n",
       "      <th></th>\n",
       "    </tr>\n",
       "  </thead>\n",
       "  <tbody>\n",
       "    <tr>\n",
       "      <th>0</th>\n",
       "      <td>5</td>\n",
       "      <td>5</td>\n",
       "      <td>lány</td>\n",
       "      <td>22</td>\n",
       "    </tr>\n",
       "    <tr>\n",
       "      <th>1</th>\n",
       "      <td>5</td>\n",
       "      <td>5</td>\n",
       "      <td>lány</td>\n",
       "      <td>20</td>\n",
       "    </tr>\n",
       "  </tbody>\n",
       "</table>\n",
       "</div>"
      ],
      "text/plain": [
       "       Eszter  Orsi   Nem  Kor\n",
       "Emelt                         \n",
       "0           5     5  lány   22\n",
       "1           5     5  lány   20"
      ]
     },
     "execution_count": 35,
     "metadata": {},
     "output_type": "execute_result"
    }
   ],
   "source": [
    "df.groupby(\"Emelt\").max()"
   ]
  },
  {
   "cell_type": "markdown",
   "metadata": {},
   "source": [
    "Egyszerre két oszlop szerint is csoportosíthazunk, ilyenkor listát kell a `groupby`-nak átadnunk. Itt már nemcsak az `Emelt` oszlop, hanem a `Nem` oszlop is a táblázat indexének a része, ezt hívjuk többszintű indexelésnek. A továbbiakban az órán erre nem lesz szükség, csak a példa kedvéért áll itt."
   ]
  },
  {
   "cell_type": "code",
   "execution_count": 36,
   "metadata": {
    "collapsed": false
   },
   "outputs": [
    {
     "data": {
      "text/html": [
       "<div>\n",
       "<table border=\"1\" class=\"dataframe\">\n",
       "  <thead>\n",
       "    <tr style=\"text-align: right;\">\n",
       "      <th></th>\n",
       "      <th></th>\n",
       "      <th>Eszter</th>\n",
       "      <th>Orsi</th>\n",
       "      <th>Kor</th>\n",
       "    </tr>\n",
       "    <tr>\n",
       "      <th>Emelt</th>\n",
       "      <th>Nem</th>\n",
       "      <th></th>\n",
       "      <th></th>\n",
       "      <th></th>\n",
       "    </tr>\n",
       "  </thead>\n",
       "  <tbody>\n",
       "    <tr>\n",
       "      <th rowspan=\"2\" valign=\"top\">0</th>\n",
       "      <th>fiú</th>\n",
       "      <td>5</td>\n",
       "      <td>5</td>\n",
       "      <td>20</td>\n",
       "    </tr>\n",
       "    <tr>\n",
       "      <th>lány</th>\n",
       "      <td>4</td>\n",
       "      <td>4</td>\n",
       "      <td>22</td>\n",
       "    </tr>\n",
       "    <tr>\n",
       "      <th rowspan=\"2\" valign=\"top\">1</th>\n",
       "      <th>fiú</th>\n",
       "      <td>5</td>\n",
       "      <td>4</td>\n",
       "      <td>19</td>\n",
       "    </tr>\n",
       "    <tr>\n",
       "      <th>lány</th>\n",
       "      <td>3</td>\n",
       "      <td>5</td>\n",
       "      <td>20</td>\n",
       "    </tr>\n",
       "  </tbody>\n",
       "</table>\n",
       "</div>"
      ],
      "text/plain": [
       "            Eszter  Orsi  Kor\n",
       "Emelt Nem                    \n",
       "0     fiú        5     5   20\n",
       "      lány       4     4   22\n",
       "1     fiú        5     4   19\n",
       "      lány       3     5   20"
      ]
     },
     "execution_count": 36,
     "metadata": {},
     "output_type": "execute_result"
    }
   ],
   "source": [
    "df.groupby([\"Emelt\",\"Nem\"]).max()"
   ]
  },
  {
   "cell_type": "markdown",
   "metadata": {},
   "source": [
    "## Ábrázolás"
   ]
  },
  {
   "cell_type": "markdown",
   "metadata": {},
   "source": [
    "A `pandas` nagy erőssége, hogy a *DataFrame*-ekből nagyon rövid szintaxissal lehet egészen elfogadható ábrákat készíteni. Ehhez a `pandas` a `matplotlib` könyvtárat használja, melyet emiatt be is kell importálnunk."
   ]
  },
  {
   "cell_type": "code",
   "execution_count": 37,
   "metadata": {
    "collapsed": false
   },
   "outputs": [],
   "source": [
    "import matplotlib.pyplot as plt\n",
    "%matplotlib inline"
   ]
  },
  {
   "cell_type": "markdown",
   "metadata": {},
   "source": [
    "Az ábra paramétereit a `matplotlib`ben megszokott módon állíthatjuk be.\n",
    "\n",
    "Például megadhatjuk az ábra méretét:"
   ]
  },
  {
   "cell_type": "code",
   "execution_count": 38,
   "metadata": {
    "collapsed": true
   },
   "outputs": [],
   "source": [
    "plt.rcParams[\"figure.figsize\"]=10,7"
   ]
  },
  {
   "cell_type": "markdown",
   "metadata": {},
   "source": [
    "Nézzük meg, hogy az egyes emebreknek Eszter és Orsi milyen jegyet adott! A `kind=\"bar\"` kulcsszó mondja meg, hogy oszlopdiagramot szeretnénk rajzolni. (A `scatter` például pontokat tesz, a `line` vonalat rajzol.)"
   ]
  },
  {
   "cell_type": "code",
   "execution_count": 39,
   "metadata": {
    "collapsed": false
   },
   "outputs": [
    {
     "data": {
      "text/plain": [
       "<matplotlib.axes._subplots.AxesSubplot at 0x7f7fa1acf320>"
      ]
     },
     "execution_count": 39,
     "metadata": {},
     "output_type": "execute_result"
    },
    {
     "data": {
      "image/png": "[encoded data removed]",
      "text/plain": [
       "<matplotlib.figure.Figure at 0x7f7fa1ac07f0>"
      ]
     },
     "metadata": {},
     "output_type": "display_data"
    }
   ],
   "source": [
    "df[[\"Eszter\",\"Orsi\"]].plot(kind=\"bar\")"
   ]
  },
  {
   "cell_type": "markdown",
   "metadata": {},
   "source": [
    "## Handling NaNs"
   ]
  },
  {
   "cell_type": "markdown",
   "metadata": {},
   "source": [
    "# Haladóknak"
   ]
  },
  {
   "cell_type": "markdown",
   "metadata": {},
   "source": [
    "## Összefűzés, join"
   ]
  },
  {
   "cell_type": "markdown",
   "metadata": {},
   "source": [
    "Két *DataFrame*-et összefűzhetünk egymás alá, ha a `pd.concat()` függvénynek egy ugyanannyi oszlopból álló *DataFrame*-eket tartalmazó listát adunk oda.\n",
    "\n",
    "Példánkban kétszer egymás alá írjuk ugyanazt a *DataFrame*-et."
   ]
  },
  {
   "cell_type": "code",
   "execution_count": 40,
   "metadata": {
    "collapsed": false
   },
   "outputs": [
    {
     "data": {
      "text/html": [
       "<div>\n",
       "<table border=\"1\" class=\"dataframe\">\n",
       "  <thead>\n",
       "    <tr style=\"text-align: right;\">\n",
       "      <th></th>\n",
       "      <th>Eszter</th>\n",
       "      <th>Orsi</th>\n",
       "      <th>Nem</th>\n",
       "      <th>Emelt</th>\n",
       "      <th>Kor</th>\n",
       "    </tr>\n",
       "  </thead>\n",
       "  <tbody>\n",
       "    <tr>\n",
       "      <th>Csenge</th>\n",
       "      <td>4</td>\n",
       "      <td>4</td>\n",
       "      <td>lány</td>\n",
       "      <td>0</td>\n",
       "      <td>22</td>\n",
       "    </tr>\n",
       "    <tr>\n",
       "      <th>István</th>\n",
       "      <td>5</td>\n",
       "      <td>4</td>\n",
       "      <td>fiú</td>\n",
       "      <td>1</td>\n",
       "      <td>19</td>\n",
       "    </tr>\n",
       "    <tr>\n",
       "      <th>Zita</th>\n",
       "      <td>3</td>\n",
       "      <td>5</td>\n",
       "      <td>lány</td>\n",
       "      <td>1</td>\n",
       "      <td>20</td>\n",
       "    </tr>\n",
       "    <tr>\n",
       "      <th>Dávid</th>\n",
       "      <td>5</td>\n",
       "      <td>5</td>\n",
       "      <td>fiú</td>\n",
       "      <td>0</td>\n",
       "      <td>20</td>\n",
       "    </tr>\n",
       "    <tr>\n",
       "      <th>Csenge</th>\n",
       "      <td>4</td>\n",
       "      <td>4</td>\n",
       "      <td>lány</td>\n",
       "      <td>0</td>\n",
       "      <td>22</td>\n",
       "    </tr>\n",
       "    <tr>\n",
       "      <th>István</th>\n",
       "      <td>5</td>\n",
       "      <td>4</td>\n",
       "      <td>fiú</td>\n",
       "      <td>1</td>\n",
       "      <td>19</td>\n",
       "    </tr>\n",
       "    <tr>\n",
       "      <th>Zita</th>\n",
       "      <td>3</td>\n",
       "      <td>5</td>\n",
       "      <td>lány</td>\n",
       "      <td>1</td>\n",
       "      <td>20</td>\n",
       "    </tr>\n",
       "    <tr>\n",
       "      <th>Dávid</th>\n",
       "      <td>5</td>\n",
       "      <td>5</td>\n",
       "      <td>fiú</td>\n",
       "      <td>0</td>\n",
       "      <td>20</td>\n",
       "    </tr>\n",
       "  </tbody>\n",
       "</table>\n",
       "</div>"
      ],
      "text/plain": [
       "        Eszter  Orsi   Nem  Emelt  Kor\n",
       "Csenge       4     4  lány      0   22\n",
       "István       5     4   fiú      1   19\n",
       "Zita         3     5  lány      1   20\n",
       "Dávid        5     5   fiú      0   20\n",
       "Csenge       4     4  lány      0   22\n",
       "István       5     4   fiú      1   19\n",
       "Zita         3     5  lány      1   20\n",
       "Dávid        5     5   fiú      0   20"
      ]
     },
     "execution_count": 40,
     "metadata": {},
     "output_type": "execute_result"
    }
   ],
   "source": [
    "pd.concat([df,df])"
   ]
  },
  {
   "cell_type": "markdown",
   "metadata": {},
   "source": [
    "Létrehozunk egy másik *DataFrame*-et, és egy `Énekkar` nevű oszlopot teszünk bele az előző *DataFrame* indexeivel."
   ]
  },
  {
   "cell_type": "code",
   "execution_count": 41,
   "metadata": {
    "collapsed": false
   },
   "outputs": [
    {
     "data": {
      "text/html": [
       "<div>\n",
       "<table border=\"1\" class=\"dataframe\">\n",
       "  <thead>\n",
       "    <tr style=\"text-align: right;\">\n",
       "      <th></th>\n",
       "      <th>Énekkar</th>\n",
       "    </tr>\n",
       "  </thead>\n",
       "  <tbody>\n",
       "    <tr>\n",
       "      <th>Csenge</th>\n",
       "      <td>0</td>\n",
       "    </tr>\n",
       "    <tr>\n",
       "      <th>István</th>\n",
       "      <td>1</td>\n",
       "    </tr>\n",
       "    <tr>\n",
       "      <th>Zita</th>\n",
       "      <td>1</td>\n",
       "    </tr>\n",
       "    <tr>\n",
       "      <th>Dávid</th>\n",
       "      <td>1</td>\n",
       "    </tr>\n",
       "  </tbody>\n",
       "</table>\n",
       "</div>"
      ],
      "text/plain": [
       "        Énekkar\n",
       "Csenge        0\n",
       "István        1\n",
       "Zita          1\n",
       "Dávid         1"
      ]
     },
     "execution_count": 41,
     "metadata": {},
     "output_type": "execute_result"
    }
   ],
   "source": [
    "import numpy as np\n",
    "df2=pd.DataFrame(np.array([[0,1,1,1]]).transpose(),columns=[\"Énekkar\"],index=df.index)\n",
    "df2"
   ]
  },
  {
   "cell_type": "markdown",
   "metadata": {},
   "source": [
    "Hogyan tudnánk ezt az oszlopot hozzáilleszteni az előző táblázathoz? Megtehetjük `concat` segítségével, de át kell állítanunk, hogy melyik irányban fűzzük össze a két táblázatot (`axis=1` jelenti, hogy az oszlopok mellé szeretnénk írni)."
   ]
  },
  {
   "cell_type": "code",
   "execution_count": 42,
   "metadata": {
    "collapsed": false
   },
   "outputs": [
    {
     "data": {
      "text/html": [
       "<div>\n",
       "<table border=\"1\" class=\"dataframe\">\n",
       "  <thead>\n",
       "    <tr style=\"text-align: right;\">\n",
       "      <th></th>\n",
       "      <th>Eszter</th>\n",
       "      <th>Orsi</th>\n",
       "      <th>Nem</th>\n",
       "      <th>Emelt</th>\n",
       "      <th>Kor</th>\n",
       "      <th>Énekkar</th>\n",
       "    </tr>\n",
       "  </thead>\n",
       "  <tbody>\n",
       "    <tr>\n",
       "      <th>Csenge</th>\n",
       "      <td>4</td>\n",
       "      <td>4</td>\n",
       "      <td>lány</td>\n",
       "      <td>0</td>\n",
       "      <td>22</td>\n",
       "      <td>0</td>\n",
       "    </tr>\n",
       "    <tr>\n",
       "      <th>István</th>\n",
       "      <td>5</td>\n",
       "      <td>4</td>\n",
       "      <td>fiú</td>\n",
       "      <td>1</td>\n",
       "      <td>19</td>\n",
       "      <td>1</td>\n",
       "    </tr>\n",
       "    <tr>\n",
       "      <th>Zita</th>\n",
       "      <td>3</td>\n",
       "      <td>5</td>\n",
       "      <td>lány</td>\n",
       "      <td>1</td>\n",
       "      <td>20</td>\n",
       "      <td>1</td>\n",
       "    </tr>\n",
       "    <tr>\n",
       "      <th>Dávid</th>\n",
       "      <td>5</td>\n",
       "      <td>5</td>\n",
       "      <td>fiú</td>\n",
       "      <td>0</td>\n",
       "      <td>20</td>\n",
       "      <td>1</td>\n",
       "    </tr>\n",
       "  </tbody>\n",
       "</table>\n",
       "</div>"
      ],
      "text/plain": [
       "        Eszter  Orsi   Nem  Emelt  Kor  Énekkar\n",
       "Csenge       4     4  lány      0   22        0\n",
       "István       5     4   fiú      1   19        1\n",
       "Zita         3     5  lány      1   20        1\n",
       "Dávid        5     5   fiú      0   20        1"
      ]
     },
     "execution_count": 42,
     "metadata": {},
     "output_type": "execute_result"
    }
   ],
   "source": [
    "pd.concat([df,df2],axis=1)"
   ]
  },
  {
   "cell_type": "markdown",
   "metadata": {},
   "source": [
    "Megtehetnénk azt is, hogy elkészítjük a két táblázat Descartes-szorzatát, azaz az egyikből minden sort összepárosítunk a másik minden sorával, majd kiválogatjuk ebből a sorhalmazból csak azokat a sorokat, amelyekben az indexek megegyeznek.\n",
    "\n",
    "(Aki ismeri az SQL-nyelv `join` parancsát, ez az ún. `inner join`.)"
   ]
  },
  {
   "cell_type": "code",
   "execution_count": 43,
   "metadata": {
    "collapsed": false
   },
   "outputs": [
    {
     "data": {
      "text/html": [
       "<div>\n",
       "<table border=\"1\" class=\"dataframe\">\n",
       "  <thead>\n",
       "    <tr style=\"text-align: right;\">\n",
       "      <th></th>\n",
       "      <th>Eszter</th>\n",
       "      <th>Orsi</th>\n",
       "      <th>Nem</th>\n",
       "      <th>Emelt</th>\n",
       "      <th>Kor</th>\n",
       "      <th>Énekkar</th>\n",
       "    </tr>\n",
       "  </thead>\n",
       "  <tbody>\n",
       "    <tr>\n",
       "      <th>Csenge</th>\n",
       "      <td>4</td>\n",
       "      <td>4</td>\n",
       "      <td>lány</td>\n",
       "      <td>0</td>\n",
       "      <td>22</td>\n",
       "      <td>0</td>\n",
       "    </tr>\n",
       "    <tr>\n",
       "      <th>István</th>\n",
       "      <td>5</td>\n",
       "      <td>4</td>\n",
       "      <td>fiú</td>\n",
       "      <td>1</td>\n",
       "      <td>19</td>\n",
       "      <td>1</td>\n",
       "    </tr>\n",
       "    <tr>\n",
       "      <th>Zita</th>\n",
       "      <td>3</td>\n",
       "      <td>5</td>\n",
       "      <td>lány</td>\n",
       "      <td>1</td>\n",
       "      <td>20</td>\n",
       "      <td>1</td>\n",
       "    </tr>\n",
       "    <tr>\n",
       "      <th>Dávid</th>\n",
       "      <td>5</td>\n",
       "      <td>5</td>\n",
       "      <td>fiú</td>\n",
       "      <td>0</td>\n",
       "      <td>20</td>\n",
       "      <td>1</td>\n",
       "    </tr>\n",
       "  </tbody>\n",
       "</table>\n",
       "</div>"
      ],
      "text/plain": [
       "        Eszter  Orsi   Nem  Emelt  Kor  Énekkar\n",
       "Csenge       4     4  lány      0   22        0\n",
       "István       5     4   fiú      1   19        1\n",
       "Zita         3     5  lány      1   20        1\n",
       "Dávid        5     5   fiú      0   20        1"
      ]
     },
     "execution_count": 43,
     "metadata": {},
     "output_type": "execute_result"
    }
   ],
   "source": [
    "pd.merge(df,df2,left_index=True,right_index=True)"
   ]
  },
  {
   "cell_type": "markdown",
   "metadata": {},
   "source": [
    "## Contains"
   ]
  },
  {
   "cell_type": "markdown",
   "metadata": {},
   "source": [
    "Ha egy stringeket tartalmazó oszlopban végig kell néznünk, hogy megvan-e valamilyen karaktersorozat:"
   ]
  },
  {
   "cell_type": "code",
   "execution_count": 44,
   "metadata": {
    "collapsed": false
   },
   "outputs": [
    {
     "data": {
      "text/plain": [
       "Csenge     True\n",
       "István    False\n",
       "Zita       True\n",
       "Dávid     False\n",
       "Name: Nem, dtype: bool"
      ]
     },
     "execution_count": 44,
     "metadata": {},
     "output_type": "execute_result"
    }
   ],
   "source": [
    "df[\"Nem\"].str.contains(\"án\")"
   ]
  },
  {
   "cell_type": "markdown",
   "metadata": {},
   "source": [
    "## Apply"
   ]
  },
  {
   "cell_type": "markdown",
   "metadata": {},
   "source": [
    "Ha egy tetszőleges függvényt szeretnénk egy oszlop minden egyes elemére alkalmazni, megtehetjük az `apply` segítségével. Az apply belsejébe írjuk a függvényt, amit alkalmazni szeretnénk.\n",
    "\n",
    "Elsőként például készítünk egy függvényt, ami egy számhoz hozzáad egyet:"
   ]
  },
  {
   "cell_type": "code",
   "execution_count": 45,
   "metadata": {
    "collapsed": true
   },
   "outputs": [],
   "source": [
    "def hozzaad(x):\n",
    "    return x+1"
   ]
  },
  {
   "cell_type": "markdown",
   "metadata": {},
   "source": [
    "Ezek után mindenkit öregítünk egy évvel."
   ]
  },
  {
   "cell_type": "code",
   "execution_count": 46,
   "metadata": {
    "collapsed": false
   },
   "outputs": [
    {
     "data": {
      "text/plain": [
       "Csenge    23\n",
       "István    20\n",
       "Zita      21\n",
       "Dávid     21\n",
       "Name: Kor, dtype: int64"
      ]
     },
     "execution_count": 46,
     "metadata": {},
     "output_type": "execute_result"
    }
   ],
   "source": [
    "df[\"Kor\"].apply(hozzaad)"
   ]
  },
  {
   "cell_type": "markdown",
   "metadata": {},
   "source": [
    "## Pivot"
   ]
  },
  {
   "cell_type": "markdown",
   "metadata": {},
   "source": [
    "Új táblázatot is készíthetünk összesített eredmények alapján az eredetiből. Hogy legyen valami látható eredményünk, adjuk még hozzá Károlyt a táblázatunkhoz."
   ]
  },
  {
   "cell_type": "code",
   "execution_count": 47,
   "metadata": {
    "collapsed": false
   },
   "outputs": [],
   "source": [
    "df.loc[\"Károly\"]=[4,5,\"fiú\",20,1]"
   ]
  },
  {
   "cell_type": "markdown",
   "metadata": {},
   "source": [
    "Most megnézzünk nemenként és emelt szintű érettségi szerint, hogy melyik kategóriában hány ember van. Mivel a csoportosítás készít nekünk egy többszintű indexet, ezt kiiktatjuk a `reset_index(inplace=True)` parancs segítségével."
   ]
  },
  {
   "cell_type": "code",
   "execution_count": 48,
   "metadata": {
    "collapsed": false
   },
   "outputs": [
    {
     "data": {
      "text/html": [
       "<div>\n",
       "<table border=\"1\" class=\"dataframe\">\n",
       "  <thead>\n",
       "    <tr style=\"text-align: right;\">\n",
       "      <th></th>\n",
       "      <th>Nem</th>\n",
       "      <th>Emelt</th>\n",
       "      <th>Eszter</th>\n",
       "      <th>Orsi</th>\n",
       "      <th>Kor</th>\n",
       "    </tr>\n",
       "  </thead>\n",
       "  <tbody>\n",
       "    <tr>\n",
       "      <th>0</th>\n",
       "      <td>fiú</td>\n",
       "      <td>0</td>\n",
       "      <td>1</td>\n",
       "      <td>1</td>\n",
       "      <td>1</td>\n",
       "    </tr>\n",
       "    <tr>\n",
       "      <th>1</th>\n",
       "      <td>fiú</td>\n",
       "      <td>1</td>\n",
       "      <td>1</td>\n",
       "      <td>1</td>\n",
       "      <td>1</td>\n",
       "    </tr>\n",
       "    <tr>\n",
       "      <th>2</th>\n",
       "      <td>fiú</td>\n",
       "      <td>20</td>\n",
       "      <td>1</td>\n",
       "      <td>1</td>\n",
       "      <td>1</td>\n",
       "    </tr>\n",
       "    <tr>\n",
       "      <th>3</th>\n",
       "      <td>lány</td>\n",
       "      <td>0</td>\n",
       "      <td>1</td>\n",
       "      <td>1</td>\n",
       "      <td>1</td>\n",
       "    </tr>\n",
       "    <tr>\n",
       "      <th>4</th>\n",
       "      <td>lány</td>\n",
       "      <td>1</td>\n",
       "      <td>1</td>\n",
       "      <td>1</td>\n",
       "      <td>1</td>\n",
       "    </tr>\n",
       "  </tbody>\n",
       "</table>\n",
       "</div>"
      ],
      "text/plain": [
       "    Nem  Emelt  Eszter  Orsi  Kor\n",
       "0   fiú      0       1     1    1\n",
       "1   fiú      1       1     1    1\n",
       "2   fiú     20       1     1    1\n",
       "3  lány      0       1     1    1\n",
       "4  lány      1       1     1    1"
      ]
     },
     "execution_count": 48,
     "metadata": {},
     "output_type": "execute_result"
    }
   ],
   "source": [
    "p=df.groupby([\"Nem\",\"Emelt\"]).count()\n",
    "p.reset_index(inplace=True)\n",
    "p"
   ]
  },
  {
   "cell_type": "markdown",
   "metadata": {},
   "source": [
    "Készítsünk egy táblázatot, melyben a sorok a nemek, az oszlopok, hogy tett-e valaki emelt szintű érettségit, és az értékek a kategóriák leszámlálásai:"
   ]
  },
  {
   "cell_type": "code",
   "execution_count": 49,
   "metadata": {
    "collapsed": false
   },
   "outputs": [
    {
     "data": {
      "text/html": [
       "<div>\n",
       "<table border=\"1\" class=\"dataframe\">\n",
       "  <thead>\n",
       "    <tr style=\"text-align: right;\">\n",
       "      <th>Emelt</th>\n",
       "      <th>0</th>\n",
       "      <th>1</th>\n",
       "      <th>20</th>\n",
       "    </tr>\n",
       "    <tr>\n",
       "      <th>Nem</th>\n",
       "      <th></th>\n",
       "      <th></th>\n",
       "      <th></th>\n",
       "    </tr>\n",
       "  </thead>\n",
       "  <tbody>\n",
       "    <tr>\n",
       "      <th>fiú</th>\n",
       "      <td>1.0</td>\n",
       "      <td>1.0</td>\n",
       "      <td>1.0</td>\n",
       "    </tr>\n",
       "    <tr>\n",
       "      <th>lány</th>\n",
       "      <td>1.0</td>\n",
       "      <td>1.0</td>\n",
       "      <td>NaN</td>\n",
       "    </tr>\n",
       "  </tbody>\n",
       "</table>\n",
       "</div>"
      ],
      "text/plain": [
       "Emelt   0    1    20\n",
       "Nem                 \n",
       "fiú    1.0  1.0  1.0\n",
       "lány   1.0  1.0  NaN"
      ]
     },
     "execution_count": 49,
     "metadata": {},
     "output_type": "execute_result"
    }
   ],
   "source": [
    "p.pivot_table(values=\"Eszter\",columns=\"Emelt\",index=\"Nem\")"
   ]
  }
 ],
 "metadata": {
  "anaconda-cloud": {},
  "hide_input": false,
  "kernelspec": {
   "display_name": "Python [conda env:py35]",
   "language": "python",
   "name": "conda-env-py35-py"
  },
  "language_info": {
   "codemirror_mode": {
    "name": "ipython",
    "version": 3
   },
   "file_extension": ".py",
   "mimetype": "text/x-python",
   "name": "python",
   "nbconvert_exporter": "python",
   "pygments_lexer": "ipython3",
   "version": "3.5.1"
  },
  "toc": {
   "toc_cell": false,
   "toc_number_sections": true,
   "toc_threshold": 6,
   "toc_window_display": false
  }
 },
 "nbformat": 4,
 "nbformat_minor": 0
}
