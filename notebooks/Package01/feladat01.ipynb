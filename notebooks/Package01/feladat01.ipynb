{
 "cells": [
  {
   "cell_type": "markdown",
   "metadata": {},
   "source": [
    "# Feladatok\n",
    "\n",
    "Minden feladatot különn notebookba oldj meg. A megoldás notebook neve tartalmazza a feladat számát!\n",
    "\n",
    "---"
   ]
  },
  {
   "cell_type": "markdown",
   "metadata": {},
   "source": [
    "## 01-egyszerű számolás\n",
    "\n",
    "Hány [csillagászati egységet](https://www.google.hu/search?q=csillag%C3%A1szati+egys%C3%A9g&oq=csillag%C3%A1szati+egys%C3%A9g&aqs=chrome..69i57.5060j0j7&sourceid=chrome&ie=UTF-8) tesz meg a fény egy [fertály óra](https://www.google.hu/search?q=fert%C3%A1ly&oq=fert%C3%A1ly+&aqs=chrome..69i57j69i60.4819j0j7&sourceid=chrome&ie=UTF-8#safe=off&q=fert%C3%A1ly+%C3%B3ra) alatt ? A számítás elvégzéséhez definiálj változókat és végezd el a számítást!"
   ]
  },
  {
   "cell_type": "markdown",
   "metadata": {},
   "source": [
    "## 02-karakterlancok és indexelés\n",
    "\n",
    "Az alább definiált három karakterlánc segítségével definiáljunk egy változót, ami a saját keresztnevünket tartalmazza!\n",
    "Az ékezetektől tekintsünk el, a vezetékneveket ne írjuk egybe! Használjunk indexelést előlről is és hátulról is!"
   ]
  },
  {
   "cell_type": "code",
   "execution_count": null,
   "metadata": {
    "collapsed": false
   },
   "outputs": [],
   "source": [
    "kisbetuk='qwertzuiopasdfghjklyxcvbnm'\n",
    "nagybetuk='QWERTZUIOPASDFGHJKLYXCVBNM'\n",
    "extra='+- %=.~'"
   ]
  },
  {
   "cell_type": "markdown",
   "metadata": {},
   "source": [
    "## 03-lista manipulálás\n",
    "\n",
    "- az alábbi cellában definiált `kicsi` lista segítségével építs egy olyan listát ami háromszor egymás után fordított sorrendben tartalmazza a `kicsi` lista elemeit.\n",
    "- építs egy olyan listát 6 elemű, az első 5 eleme az eredeti `kicsi` lista elemei a 6. eleme pedig maga a `kicsi` lista."
   ]
  },
  {
   "cell_type": "code",
   "execution_count": null,
   "metadata": {
    "collapsed": true
   },
   "outputs": [],
   "source": [
    "kicsi=['al',9,'+',42.137,'szoveg',69,1j]"
   ]
  },
  {
   "cell_type": "markdown",
   "metadata": {},
   "source": [
    "## 04-szótár kezelés\n",
    "\n",
    "- add hozzá az alábbi telefonkönyvhöz 'Samwise Gamgie' (123) 000-1423 telefonszámát. \n",
    "- nézz utána az interneten, hogy lehet az alábbi telefonkönyvből kinyerni az összes telefonszámot lista formályában!"
   ]
  },
  {
   "cell_type": "code",
   "execution_count": null,
   "metadata": {
    "collapsed": false
   },
   "outputs": [],
   "source": [
    "telefon_konyv={'Alonzo Hinton': '(855) 278-2590',\n",
    " 'Cleo Hennings': '(844) 832-0585',\n",
    " 'Daine Ventura': '(833) 832-5081',\n",
    " 'Esther Leeson': '(855) 485-0624',\n",
    " 'Gene Connell': '(811) 973-2926',\n",
    " 'Lashaun Bottorff': '(822) 687-1735',\n",
    " 'Marx Hermann': '(844) 164-8116',\n",
    " 'Nicky Duprey': '(811) 032-6328',\n",
    " 'Piper Subia': '(844) 373-4228',\n",
    " 'Zackary Palomares': '(822) 647-3686'}"
   ]
  }
 ],
 "metadata": {
  "hide_input": false,
  "kernelspec": {
   "display_name": "Python 3",
   "language": "python",
   "name": "python3"
  },
  "language_info": {
   "codemirror_mode": {
    "name": "ipython",
    "version": 3
   },
   "file_extension": ".py",
   "mimetype": "text/x-python",
   "name": "python",
   "nbconvert_exporter": "python",
   "pygments_lexer": "ipython3",
   "version": "3.5.1"
  },
  "latex_envs": {
   "bibliofile": "biblio.bib",
   "cite_by": "apalike",
   "current_citInitial": 1,
   "eqLabelWithNumbers": true,
   "eqNumInitial": 0
  },
  "name": "feladat01.ipynb"
 },
 "nbformat": 4,
 "nbformat_minor": 0
}
