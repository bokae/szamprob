{
 "cells": [
  {
   "cell_type": "markdown",
   "metadata": {
    "collapsed": false
   },
   "source": [
    "# Feladatok\n",
    "\n",
    "- Minden feladatot külön notebookba oldj meg! \n",
    "- A megoldásnotebook **neve** tartalmazza a feladat **számát**! \n",
    "- A megoldások kerüljenek a **MEGOLDASOK mappába**!<br> Csak azok a feladatok kerülnek elbírálásra, amelyek a MEGOLDASOK mappában vannak!\n",
    "- A megoldás tartalmazza a megoldandó **feladat szövegét** a megoldásnotebook első `markdown` cellájában! \n",
    "- **Kommentekkel**, illetve `markdown` cellákkal magyarázd, hogy éppen mit csinál az adott kódrészlet!<br> Magyarázat nélkül beküldött feladatok csak fél feladatnak számítanak!\n",
    "\n",
    "---"
   ]
  },
  {
   "cell_type": "markdown",
   "metadata": {},
   "source": [
    "## 01 - Mátrixszorzás\n",
    "Az alábbi mátrixok közül \n",
    "\n",
    "\\begin{equation}\n",
    "M_1=\\left(\\begin{array}{ccc}\n",
    "3 &6 &3\\\\\n",
    "9 &3 &9\\\\\n",
    "2 &0 &2\n",
    "\\end{array}\\right)\\,, \n",
    "M_2=\\left(\\begin{array}{ccc}\n",
    "7 &9 &6\\\\\n",
    "9 &3 &0\\\\\n",
    "1 &2 &3\n",
    "\\end{array}\\right)\\,, \n",
    "M_3=\\left(\\begin{array}{ccc}\n",
    "3 &2 &6\\\\\n",
    "6 &5 &9\\\\\n",
    "8 &5 &8\n",
    "\\end{array}\\right)\\,,\n",
    "M_4=\\left(\\begin{array}{ccc}\n",
    "0 &2 &9\\\\\n",
    "6 &5 &4\\\\\n",
    "9 &9 &2\\end{array}\\right)\n",
    "\\end{equation}\n",
    "\n",
    "\n",
    "ha kettőt megfelelő sorrendben összeszorzunk, akkor eredményül az\n",
    "\n",
    "\\begin{equation}\n",
    "X=\\left(\\begin{array}{ccc}\n",
    "36&   6&  36\\\\\n",
    "71&  51&  71\\\\\n",
    "112&  81& 112\n",
    "\\end{array}\\right)\n",
    "\\end{equation}\n",
    "\n",
    "mátrixot kapjuk. Határozzuk meg, hogy melyik mátrixok azok, amelyek a szorzás tényezőit adják, illetve hogy milyen sorrendben kell a szorzást elvégezni!"
   ]
  },
  {
   "cell_type": "markdown",
   "metadata": {},
   "source": [
    "## 02 - Invertálhatóság\n",
    "- Vizsgáljuk meg, hogy az előző feladatban definiált négy mátrix közül melyik [invertálható](https://hu.wikipedia.org/wiki/Invert%C3%A1lhat%C3%B3_m%C3%A1trix).\n",
    "- Határozzuk meg azon mátrixok diagonális elemeinek összegét (spúrját), amelyek nem invertálhatóak!"
   ]
  },
  {
   "cell_type": "markdown",
   "metadata": {},
   "source": [
    "## 03 - 3D forgatás\n",
    "\n",
    "Az $x$ $y$ és $z$ tengely körüli forgatások mátrixai  a következő alakot öltik:\n",
    "$$\n",
    "R_x(\\alpha)=\\begin{pmatrix}\n",
    "1            &  0            & 0 \\\\\n",
    "0&\\cos(\\alpha) & -\\sin(\\alpha)  \\\\ \n",
    "0&\\sin(\\alpha) & \\cos(\\alpha)                   \n",
    "\\end{pmatrix},\\quad\n",
    "R_y(\\alpha)=\\begin{pmatrix}\n",
    "\\cos(\\alpha) &  0 & -\\sin(\\alpha) \\\\ \n",
    "0 & 1   & 0  \\\\\n",
    "\\sin(\\alpha)            & 0              & \\cos(\\alpha)\n",
    "\\end{pmatrix},\n",
    "R_z(\\alpha)=\\begin{pmatrix}\n",
    "\\cos(\\alpha) & -\\sin(\\alpha)  & 0 \\\\ \n",
    "\\sin(\\alpha) & \\cos(\\alpha)   & 0  \\\\\n",
    "0            & 0              & 1\n",
    "\\end{pmatrix}.\n",
    "$$\n",
    "\n",
    "Melyik az az $u$ vektor, melyre igaz az, hogy \n",
    "$$ R_x(\\pi/3)R_z(\\pi/7)R_y(\\pi/5)u=\n",
    "\\begin{pmatrix}\n",
    "137  \\\\ \n",
    "42   \\\\\n",
    "36  \n",
    "\\end{pmatrix}.\n",
    "$$\n",
    "Határozzuk meg a keresett $u$-t a mintapéldában szereplő `solve()` függvény segítségével!"
   ]
  },
  {
   "cell_type": "markdown",
   "metadata": {},
   "source": [
    "## 04 - Sajátértékek\n",
    "\n",
    "- Határozzuk meg az első feladatban szereplő mátrixok sajátértékeit!\n",
    "- Ellenőrizzük le, hogy a sajátértékek szorzata megegyezik a mátrixok determinánsával!"
   ]
  },
  {
   "cell_type": "markdown",
   "metadata": {
    "collapsed": true
   },
   "source": [
    "## 05-$\\mathrm{CO}_2$ molekula rezgései\n",
    "\n",
    "A CO$_2$ molekula atomjainak rezgését az alábbi három egyenlet írja le \n",
    "$$m_O \\overset{..}{x}_1=k(x_1-x_2),\\quad\\quad\\quad\\quad\\quad\\quad$$\n",
    "\n",
    "$$m_C \\overset{..}{x}_2=k(x_2-x_1)+k(x_2-x_3),$$\n",
    "\n",
    "$$m_O \\overset{..}{x}_3=k(x_3-x_2).\\quad\\quad\\quad\\quad\\quad\\quad$$\n",
    "\n",
    "ahol az $x_1$, $x_2$ és $x_3$ rendre az egyik oxigén, a szénatom, illetve a másik oxigén koordinátái a térben.\n",
    "\n",
    "Feltéve, hogy a rendszer harmonikus mozgást végez ($x_i=A_i\\mathrm{e}^{\\mathrm{i}\\omega t}$), az alábbi egyenletrendszerre jutunk:\n",
    "\n",
    "$$m_O \\omega^2 A_1=k(A_1-A_2),\\quad\\quad\\quad\\quad\\quad\\quad$$\n",
    "\n",
    "$$m_C \\omega^2 A_2=k(A_2-A_1)+k(A_2-A_3),$$\n",
    "\n",
    "$$m_O \\omega^2 A_3=k(A_3-A_2).\\quad\\quad\\quad\\quad\\quad\\quad$$\n",
    "\n",
    "Vizsgáljuk ezt az egyenletrendszert egy dimenzióban! Azaz mindhárom $A_i$-t tekintsük egyszerű számoknak! Legyen továbbá $k=1$, $m_O=16$ és $m_C=12$. Határozuk meg a **numpy** eig() rutinja segítségével az $\\omega_i$ sajátfrekvenciákat (sajátértékeket), illetve a sajátfrekvenciákhoz tartozó rezgési módusokat (sajátvektorokat)!"
   ]
  },
  {
   "cell_type": "markdown",
   "metadata": {},
   "source": [
    "## 06- Su$-$Schrieffer$-$Heeger-modell sávszerkezete ☠\n",
    "\n",
    "A szilárdtestfizikában a Su$-$Schrieffer$-$Heeger-modell egy végtelen periodikus poliacetilén láncot ír le. A modell Hamilton-operátora az alábbi 2x2-es hermitikus mátrix:\n",
    "$$\n",
    "H=\\left(\n",
    "\\begin{array}{cc}\n",
    " 0 & 1+w e^{-i k} \\\\\n",
    " 1+w e^{i k} & 0 \\\\\n",
    "\\end{array}\n",
    "\\right).\n",
    "$$\n",
    "A fenti kifejezésben $k$ a hullámszámvektor, melynek értéke a $[-\\pi,\\pi]$ intervallumon változhat, $w$  pedig egy valós szám, melynek értéke $0.5$ és $1.5$ között változhat. Készítsünk egy interaktív ábrát, mely a Hamilton-operátor sajátértékeit ábrázolja $k$ függvényében, ahol egy csúszka segítségével $w$ értékét változtathatjuk!"
   ]
  },
  {
   "cell_type": "markdown",
   "metadata": {},
   "source": [
    "## 07- PageRank ☠\n",
    "\n",
    "A Google-keresés áttörő sikerét a [PageRank](http://www.stat.cmu.edu/~ryantibs/datamining/lectures/03-pr.pdf)-algoritmus indította el, melynek természetesen mára már a titkos és sokat finomított verzióját tartalmazza a keresőmotor. Az első PageRank-változat azonban egy nagyon szép és intuitív képre vezethető vissza, melynek segítségével végső soron a leghasznosabb honlapok megkeresése is a következő mátrix sajátérték-problémára egyszerűsödik:\n",
    "\n",
    "$$\\mathbf{V}=mathbf{L}\\mathbf{M^{-1}},$$ \n",
    "\n",
    "ahol\n",
    "* $n$ a csúcsok száma,\n",
    "* $\\mathbf{L}$ az ún. összekötöttségi mátrix, azaz\n",
    "    * $L_{ij}=1$, ha $i$ és $j$ között van él, és\n",
    "    * $L_{ij}=0$, ha $i$ és $j$ között nincs él.\n",
    "* $\\mathbf{M}$ pedig az az $n\\times n$-es mátrix, melynek főátlójában a csúcsok fokszáma áll\n",
    "$$M_{ii}=\\sum_{j=1}^n L_{ij}.$$\n",
    "\n",
    "Ezen mátrix 1 sajátérté\n",
    "\n",
    "A Google által 2002-ben közzétett, az internet hálózatát feltérképező [adatokból](http://snap.stanford.edu/data/web-Google.html) határozzuk meg, hogy melyik tíz honlap rangsorolódna a PageRank-algoritmus alapján legelőrébb az adatbázisban szereplő 875713 oldal közül (elég ha a honlapok sorszámát megállapítjuk). \n",
    "\n",
    "A feladat megoldása során felmerülő nagy mátrixot a `scipy` modul [ritkamátrixokért felelős függvényeivel](https://docs.scipy.org/doc/scipy-0.18.1/reference/sparse.linalg.html) dolgozzuk fel!\n",
    "\n"
   ]
  },
  {
   "cell_type": "code",
   "execution_count": null,
   "metadata": {
    "collapsed": true
   },
   "outputs": [],
   "source": []
  }
 ],
 "metadata": {
  "anaconda-cloud": {},
  "hide_input": false,
  "kernelspec": {
   "display_name": "Python [default]",
   "language": "python",
   "name": "python3"
  },
  "language_info": {
   "codemirror_mode": {
    "name": "ipython",
    "version": 3
   },
   "file_extension": ".py",
   "mimetype": "text/x-python",
   "name": "python",
   "nbconvert_exporter": "python",
   "pygments_lexer": "ipython3",
   "version": "3.5.2"
  },
  "name": "feladat05.ipynb"
 },
 "nbformat": 4,
 "nbformat_minor": 0
}
