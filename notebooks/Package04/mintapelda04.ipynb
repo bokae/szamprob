{
 "cells": [
  {
   "cell_type": "markdown",
   "metadata": {},
   "source": [
    "# Hogy lesznek a dolgok szépek és érdekesek ?\n",
    "\n",
    "\n",
    "\n",
    "A számítógépes probléma megoldás szerves része az eredmények érthető tálalása. Erre a feladatra legtöbbször egy alkalmasan szerkeztett ábra a legmegfelelőbb megoldás! Az alábbiakban  a `python` `matplotlib` és `plotly` nevezetű ábrakészítő csomagjaival fogunk megbarátkozni. Ezenfelül az `ipywidgets` nevű csömag néhány hasznos függvényével is megismerkedünk, melyek lehetővé teszik hogy interaktív objektumokkal (csúszkákkal és legördülő menükkel) tegyük érdekesebbé az ábráinkat. \n",
    "Az alábbi vázlat szerint fogunk haladni:"
   ]
  },
  {
   "cell_type": "markdown",
   "metadata": {},
   "source": [
    "- [**2D ábrák**](2D.ipynb)\n",
    "  - Egyszerű függvény és adat ábrázolás\n",
    "  - Mérési adatok ábrázolása hibával\n",
    "  - Hisztogrammok\n",
    "  - Kétváltozós függvények ábrázolásai, kontúr ábrák, hőtérképek\n",
    "  - Vektorterek ábrázolási lehetőségei, nyíl seregek és áramvonalak\n",
    "  - Ábra feliratozás, nyilazás, ábra tömbök"
   ]
  },
  {
   "cell_type": "markdown",
   "metadata": {},
   "source": [
    "- [**Ineraktivitás**](Interact.ipynb)\n",
    "   - Interaktív objektumok az IPytonban (csúszkák, gombok legördülő listák)\n",
    "   - Interaktív ábrák"
   ]
  },
  {
   "cell_type": "markdown",
   "metadata": {},
   "source": [
    "- [**3D ábrák**](3D.ipynb)\n",
    "  - Térbeli görbék\n",
    "  - Nézőpont\n",
    "  - Kétváltozós függvények\n",
    "  - Általános felületek\n",
    "  - Erőterek 3D-ben"
   ]
  },
  {
   "cell_type": "markdown",
   "metadata": {},
   "source": [
    "- ☠ [**plotly**](plotly.ipynb) ☠\n",
    " - plotly alapok (a modulban használt fontosabb struktúrák)\n",
    " - egyszerű ábrák\n",
    " - térbeli ábrák\n",
    "  \n"
   ]
  }
 ],
 "metadata": {
  "hide_input": false,
  "kernelspec": {
   "display_name": "Python 3",
   "language": "python",
   "name": "python3"
  },
  "language_info": {
   "codemirror_mode": {
    "name": "ipython",
    "version": 3
   },
   "file_extension": ".py",
   "mimetype": "text/x-python",
   "name": "python",
   "nbconvert_exporter": "python",
   "pygments_lexer": "ipython3",
   "version": "3.5.1"
  },
  "latex_envs": {
   "bibliofile": "biblio.bib",
   "cite_by": "apalike",
   "current_citInitial": 1,
   "eqLabelWithNumbers": true,
   "eqNumInitial": 0
  },
  "name": "mintapelda03.ipynb"
 },
 "nbformat": 4,
 "nbformat_minor": 0
}
