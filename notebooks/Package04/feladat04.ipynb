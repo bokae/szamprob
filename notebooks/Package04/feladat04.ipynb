{
 "cells": [
  {
   "cell_type": "markdown",
   "metadata": {
    "collapsed": false
   },
   "source": [
    "# Feladatok\n",
    "\n",
    "- Minden feladatot külön notebookba oldj meg! \n",
    "- A megoldásnotebook **neve** tartalmazza a feladat **számát**! \n",
    "- A megoldasok kerüljenek a **MEGOLDASOK mappába**!<br> Csak azok a feladatok kerülnek elbírálásra, amelyek a MEGOLDASOK mappában vannak!\n",
    "- A megoldás tartalmazza a megoldandó **feladat szövegét** a megoldás notebook első `markdown` cellájában! \n",
    "- **Kommentekkel**, illetve `markdown` cellákkal magyarázd hogy éppen mit csinál az adott kódrészlet!<br> Magyarázat nélkül beküldött feladatok csak fél feladatnak számítanak!\n",
    "---"
   ]
  },
  {
   "cell_type": "markdown",
   "metadata": {},
   "source": [
    "## 01 Egszerű plot\n",
    "\n",
    "Ábrázold az alábbi egszerű függvényeket a megdott intervallumokon külön-külön ábrára!\n",
    "Mindegyiket a megadott vonalstílus (vastagság és jelleg) és szín szerint jelenítsd meg!\n",
    "\n",
    "- Fermi-Dirac eloszlás függvény (kék egyenletes vonal 2-es vonalszélességgel) $$f(x)=\\displaystyle\\frac{1}{\\mathrm{e}^x+1},\\quad x\\in[-4,4]$$\n",
    "\n",
    "\n",
    "- A 7. Csebishev polynom (piros egyenletes vonal 1-es vonalszélességgel) $$T_7(x)=64x^7-112x^5+56x^3-7x,\\quad x\\in[-1,1]$$\n",
    "\n",
    "\n",
    "- Lorenz görbe (zöld szaggatott vonal 2-es vonalszélességgel) $$L(x)=\\displaystyle\\frac{1}{x^2+1},\\quad x\\in[-2,2]$$\n",
    "\n",
    "\n",
    "- Gauss görbe (fekete pontozott vonal 3-as vonalszélességgel) $$G(x)=\\displaystyle\\mathrm{e}^{-x^2},\\quad x\\in[-3,3]$$\n",
    "\n",
    "Minden ábrán legyenek tengelyfeliratok!"
   ]
  },
  {
   "cell_type": "markdown",
   "metadata": {},
   "source": [
    "## 02-Adatok ábrázolása\n",
    "\n",
    "Ábrázold a Felix Bamugartner ugrásának sebesség-idő adatait! Az adatokat a `data` könyvtárban a `v_vs_t` file-ban találod. A `MEGOLDÁSOK` mappából `'../data/v_vs_t'` alapján érhető el az adatfile. A file első oszlopában az eltelt idő van másodpercben a második oszlopban pedig a sebesség km/h-ban.\n",
    "\n",
    " - Legyenek az ábrán tengely feliratok. \n",
    " - Legyen az ábrán rácsozás. \n",
    " - Jelöld a maximális sebességet egy nagy zöld háromszöggel."
   ]
  },
  {
   "cell_type": "markdown",
   "metadata": {},
   "source": [
    "## 03 Interaktív ábra\n",
    "\n",
    "Lészítsünk egy kis interaktív ábrát amelyben a [Chebyshev polynomokat](https://en.wikipedia.org/wiki/Chebyshev_polynomials) ábrázoljuk a $[-1,1]$ intervallumon.\n",
    "A Chebyshev polynomokat az alábbi összefüggés definiálja.\n",
    "\n",
    "$$T_n(x)=\\cos(n \\arccos x)$$\n",
    "\n",
    "- Legyen az interaktívan válltoztatható paraméter az $n$ egész szám!  \n",
    "- Az $n$ értékeit a $[0,10]$ intervallumból válasszuk!\n",
    "- Az ábrán legyenek tengelyfeliratok! \n",
    "- Legyen az ábrázolt függvény vasag és piros színű!\n"
   ]
  },
  {
   "cell_type": "markdown",
   "metadata": {},
   "source": [
    "## 04 Egyszerű két válltozós függvény\n",
    "- Ábrázold az $$ f(x,y)=\\mathrm{e}^{-(x-1)^2-(y+1.5)^2}+\\cos(x^3-3y^2) $$ függvényt az $$x\\in[-3,3],\\quad \n",
    "y\\in[-3,3]$$ tartományban! Használda vagy a `pcolor` függvényt !\n",
    "- Ábrázold, ugyan ezen a képen, azon pontokat az $(x-y)$ síkon melyekre a fent definiált $f(x,y)$ függvény a $0$ értéket veszi fel! Használda vagy a `contour` függvényt !\n",
    "\n",
    "\n",
    "Legyen az ábrádon színmagyarázat (colorbar),  illetve tengelyfeliratok!"
   ]
  },
  {
   "cell_type": "markdown",
   "metadata": {},
   "source": [
    "## 05 2D Coulomb tér \n",
    "Ábrázoljuk egy, az origóban elhelyezkedő elektromos töltés erőterét egy, az origón átmeő síkban! Az erőtér komponensei az $(x,y)$ pontba a következő összefüggések adják meg: \n",
    "$$E_x=\\frac{x}{(x^2+y^2)^{3/2}}$$\n",
    "$$E_y=\\frac{y}{(x^2+y^2)^{3/2}}$$"
   ]
  },
  {
   "cell_type": "markdown",
   "metadata": {
    "collapsed": true
   },
   "source": [
    "## 10 Angry-Bird ☠\n",
    "Készétsünk egy olyan interaktív ábrát amely egy ferde hajítás trajektóriáját rajzolja ki! Legyen két változtatható paraméter: a kezdeti szög és a kezdősebesség! Jelöljük a pálya maximális magasságú pontját egy piros ponttal! "
   ]
  },
  {
   "cell_type": "markdown",
   "metadata": {},
   "source": [
    "## 05 3D görbe\n",
    "\n",
    "Ábrázoljuk az alábbi paraméteres alakban megadott térbeli görbét:\n",
    "\\begin{align}\n",
    "x&=\\sin(t) + 2 \\sin (2t),\\\\\n",
    "y&=\\cos(t) - 2 \\cos (2t),\\\\\n",
    "z&=-\\sin(3t).\n",
    "\\end{align}\n",
    "A $t$ paramétert $t\\in[0,2\\pi]$ intervallumba vegyük fel! Készítsünk képet két különböző nézőpontból!\n"
   ]
  },
  {
   "cell_type": "markdown",
   "metadata": {},
   "source": [
    "## 07 Magasság térkép ☠\n",
    "Ábrázoljuk térben az alábbi függvényt! Legyen $x,y\\in[-3,3]$ \n",
    "$$z = \\sin(x)^{10} + \\cos(10 + yx)\\cos(x)$$"
   ]
  },
  {
   "cell_type": "markdown",
   "metadata": {},
   "source": [
    "## 08 3D felület ☠\n",
    "\n",
    "Ábrázoljuk az alábbi paraméteresen megadott felületet:\n",
    "\n",
    "\\begin{align}\n",
    "  x &= (2 +  \\cos (\\theta)) \\cos{(\\varphi)}, \\\\\n",
    "  y &= (2 +  \\cos (\\theta)) \\sin{(\\varphi)}, \\\\\n",
    "  z &=  \\sin( \\theta).\n",
    "\\end{align}\n",
    "\n",
    "A felület paraméterei az $\\theta,\\varphi\\in[0,2\\pi]$ intervallumban fussanak!"
   ]
  },
  {
   "cell_type": "markdown",
   "metadata": {},
   "source": [
    "# Plotly feladatok\n",
    "\n",
    "## ☠ 1. Kördiagram\n",
    "\n",
    "Az alábbi lista egy osztályban kiosztott érdemjegyek darabszámát tartalmazza a jegyek szerint növekvő sorrendben."
   ]
  },
  {
   "cell_type": "code",
   "execution_count": null,
   "metadata": {
    "collapsed": true
   },
   "outputs": [],
   "source": [
    "jegyek_darab = [2, 3, 11, 9, 5]"
   ]
  },
  {
   "cell_type": "markdown",
   "metadata": {},
   "source": [
    "Tehát 2 tanuló kapott egyest, 3-an kaptak kettest, 11-en hármast, 9-en négyest és 5-en ötöst. Készítsünk kördiagramot az osztályon belül a jegyek eloszlásáról! Egy kis [segítség](https://plot.ly/python/pie-chart"
   ]
  },
  {
   "cell_type": "markdown",
   "metadata": {},
   "source": [
    "## ☠ 2. Színes gömb\n",
    "\n",
    "Készítsük el egy $r=5$ sugarú gömb paraméterezését a fenti \"színes kör\" minta alapján és ábrázoljuk 3 dimenzióban a kapott pontokat úgy, hogy az azonos \"térnyolcadba\" eső pontok egyszínűek legyenek.\n",
    "\n",
    "## ☠ 3. Népsűrűség\n",
    "\n",
    "Ábrázoljuk Európa országait térképen úgy, hogy az ábrán egy ország színét az adott ország népsűrűsége határozza meg. Az adatok a `data/europe_population_data.csv` fájban találhatók. Egy kis [segítség](https://plot.ly/python/choropleth-maps/)."
   ]
  }
 ],
 "metadata": {
  "hide_input": false,
  "kernelspec": {
   "display_name": "Python 2",
   "language": "python",
   "name": "python2"
  },
  "language_info": {
   "codemirror_mode": {
    "name": "ipython",
    "version": 2
   },
   "file_extension": ".py",
   "mimetype": "text/x-python",
   "name": "python",
   "nbconvert_exporter": "python",
   "pygments_lexer": "ipython2",
   "version": "2.7.11"
  },
  "latex_envs": {
   "bibliofile": "biblio.bib",
   "cite_by": "apalike",
   "current_citInitial": 1,
   "eqLabelWithNumbers": true,
   "eqNumInitial": 0
  },
  "name": "feladat03.ipynb"
 },
 "nbformat": 4,
 "nbformat_minor": 0
}
