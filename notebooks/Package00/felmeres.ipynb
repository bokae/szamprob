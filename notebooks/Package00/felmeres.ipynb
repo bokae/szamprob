{
 "cells": [
  {
   "cell_type": "markdown",
   "metadata": {},
   "source": [
    "# Vajon mit csinál ez a program?\n",
    "\n",
    "A program minden sorába a sor végére #-jellel kezdve írd le, hogy szerinted mit csinál az adott sor!"
   ]
  },
  {
   "cell_type": "code",
   "execution_count": null,
   "metadata": {
    "collapsed": false
   },
   "outputs": [],
   "source": [
    "import math   # Ez a sor vajon mit csinál?\n",
    "import random \n",
    "from PIL import Image\n",
    "import matplotlib.pyplot \n",
    "import numpy as np \n",
    "\n",
    "imgx = 512; imgy = 512\n",
    "image = Image.new(\"RGB\", (imgx, imgy))\n",
    "pixels = image.load()\n",
    "\n",
    "f = random.random() * 20 + 10 \n",
    "p = random.random() * math.pi \n",
    "n = random.randint(10, 20) \n",
    "print(f, p, n)\n",
    "\n",
    "for ky in range(imgy):\n",
    "    y = float(ky) / (imgy - 1) * 4 * math.pi - 2 * math.pi\n",
    "    for kx in range(imgx):\n",
    "        x = float(kx) / (imgx - 1) * 4 * math.pi - 2 * math.pi\n",
    "        z = 0.0\n",
    "        for i in range(n):\n",
    "            r = math.hypot(x, y)\n",
    "            a = math.atan2(y, x) + i * math.pi * 2.0 / n\n",
    "            z += math.cos(r * math.sin(a) * f + p)\n",
    "        c = int(round(255 * z / n))\n",
    "        pixels[kx, ky] = (c, c, c) \n"
   ]
  },
  {
   "cell_type": "markdown",
   "metadata": {},
   "source": [
    "# Egy kis meglepetés"
   ]
  },
  {
   "cell_type": "code",
   "execution_count": null,
   "metadata": {
    "collapsed": false
   },
   "outputs": [],
   "source": [
    "%matplotlib inline\n",
    "matplotlib.pyplot.imshow(np.asarray(image),cmap='PuBu');"
   ]
  }
 ],
 "metadata": {
  "hide_input": false,
  "kernelspec": {
   "display_name": "Python 3",
   "language": "python",
   "name": "python3"
  },
  "language_info": {
   "codemirror_mode": {
    "name": "ipython",
    "version": 3
   },
   "file_extension": ".py",
   "mimetype": "text/x-python",
   "name": "python",
   "nbconvert_exporter": "python",
   "pygments_lexer": "ipython3",
   "version": "3.5.1"
  },
  "latex_envs": {
   "bibliofile": "biblio.bib",
   "cite_by": "apalike",
   "current_citInitial": 1,
   "eqLabelWithNumbers": true,
   "eqNumInitial": 0
  },
  "name": "felmeres.ipynb"
 },
 "nbformat": 4,
 "nbformat_minor": 0
}
