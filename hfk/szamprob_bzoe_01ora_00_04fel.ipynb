{
 "cells": [
  {
   "cell_type": "markdown",
   "metadata": {},
   "source": [
    "# Számítógépes Problémamegoldás Jupyter Notebook (Python 3)\n",
    "\n",
    "### Baumgartner Zoé Eszter - WWNEAK"
   ]
  },
  {
   "cell_type": "markdown",
   "metadata": {},
   "source": [
    "## 1. óra [2016. 09. 12.]\n",
    "### Feladat 00"
   ]
  },
  {
   "cell_type": "markdown",
   "metadata": {},
   "source": [
    "#### 04 - Saját képlet"
   ]
  },
  {
   "cell_type": "markdown",
   "metadata": {},
   "source": [
    "##### Születési dátum: 1990. 06. 04."
   ]
  },
  {
   "cell_type": "markdown",
   "metadata": {},
   "source": [
    "**19**90.**6**.**4** (Page 680)\n",
    "\n",
    "$$ \\chi U(\\alpha,\\chi) - U (\\alpha -1, \\chi) + (\\alpha+\\frac{1}{2})U(\\alpha+1,\\chi)=0 $$\n",
    "\n",
    "These are also satisfied by $ \\Gamma (\\frac{1}{2} - \\alpha)V(\\alpha,\\chi) $"
   ]
  },
  {
   "cell_type": "markdown",
   "metadata": {},
   "source": [
    "**19.9.1** (Page 689) *19.9.0 nincsen*\n",
    "\n",
    "$$ U(\\alpha,\\chi) = \\frac {\\sqrt{\\pi}} {2^{\\frac{1}{2}a+\\frac{1}{4}} + \\Gamma(\\frac{3}{4}+\\frac{1}{2}a)} \\mathrm{e}^{-\\rho\\chi + \\upsilon_1} $$"
   ]
  }
 ],
 "metadata": {
  "anaconda-cloud": {},
  "hide_input": false,
  "kernelspec": {
   "display_name": "Python [conda env:py35]",
   "language": "python",
   "name": "conda-env-py35-py"
  },
  "language_info": {
   "codemirror_mode": {
    "name": "ipython",
    "version": 3
   },
   "file_extension": ".py",
   "mimetype": "text/x-python",
   "name": "python",
   "nbconvert_exporter": "python",
   "pygments_lexer": "ipython3",
   "version": "3.5.1"
  },
  "toc": {
   "toc_cell": false,
   "toc_number_sections": false,
   "toc_section_display": "none",
   "toc_threshold": 6,
   "toc_window_display": true
  }
 },
 "nbformat": 4,
 "nbformat_minor": 0
}
