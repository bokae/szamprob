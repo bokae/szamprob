{
 "cells": [
  {
   "cell_type": "markdown",
   "metadata": {},
   "source": [
    "# Számítógépes Problémamegoldás Jupyter Notebook (Python 3)\n",
    "\n",
    "### Baumgartner Zoé Eszter - WWNEAK"
   ]
  },
  {
   "cell_type": "markdown",
   "metadata": {},
   "source": [
    "## 1. óra [2016. 09. 12.]\n",
    "### Feladat 00"
   ]
  },
  {
   "cell_type": "markdown",
   "metadata": {},
   "source": [
    "#### 01 - Szövegszerkeztés"
   ]
  },
  {
   "cell_type": "markdown",
   "metadata": {
    "collapsed": true
   },
   "source": [
    "**Három dolog, amit csináltam nyáron**\n",
    "\n",
    "1. Tanultunk **Python**-t és megiskerkedtünk az **IPython Notebook**-kal.\n",
    "2. Gyakorlati munkát végeztünk Csengével.\n",
    "3. Egyéb dolgok, elfoglaltságok... ~~*Pihentem*~~ Elfoglaltságok."
   ]
  },
  {
   "cell_type": "markdown",
   "metadata": {},
   "source": [
    "**Becsült alvásmennyiség nyáron**\n",
    "\n",
    "**Hónap**|**Alvásmennyiség**|||\n",
    "---------|---------------------\n",
    "**Június**|***Kevés***|Közepes|Sok\n",
    "**Július**|***Kevés***|Közepes|Sok\n",
    "**Augusztus**|***Kevés***|Közepes|Sok\n"
   ]
  },
  {
   "cell_type": "markdown",
   "metadata": {},
   "source": [
    "#### Képbeszúrás Wikipedia-ról\n",
    "\n",
    "![python](https://upload.wikimedia.org/wikipedia/commons/thumb/f/f8/Python_logo_and_wordmark.svg/320px-Python_logo_and_wordmark.svg.png)"
   ]
  }
 ],
 "metadata": {
  "kernelspec": {
   "display_name": "Python 3",
   "language": "python",
   "name": "python3"
  },
  "language_info": {
   "codemirror_mode": {
    "name": "ipython",
    "version": 3
   },
   "file_extension": ".py",
   "mimetype": "text/x-python",
   "name": "python",
   "nbconvert_exporter": "python",
   "pygments_lexer": "ipython3",
   "version": "3.5.1"
  }
 },
 "nbformat": 4,
 "nbformat_minor": 0
}
