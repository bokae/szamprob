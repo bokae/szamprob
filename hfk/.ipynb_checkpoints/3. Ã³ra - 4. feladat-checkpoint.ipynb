{
 "cells": [
  {
   "cell_type": "code",
   "execution_count": 79,
   "metadata": {
    "collapsed": true
   },
   "outputs": [],
   "source": [
    "adatok={'Alonzo Hinton': '(855) 278-2590',\n",
    " 'Cleo Hennings': '(844) 832-0585',\n",
    " 'Daine Ventura': '(833) 832-5081',\n",
    " 'Esther Leeson': '(855) 485-0624',\n",
    " 'Gene Connell': '(811) 855-2926',\n",
    " 'Lashaun Bottorff': '(822) 687-1735',\n",
    " 'Marx Hermann': '(844) 164-8116',\n",
    " 'Nicky Duprey': '(811) 032-6328',\n",
    " 'Piper Subia': '(844) 373-4228',\n",
    " 'Zackary Palomares': '(822) 647-3686'}"
   ]
  },
  {
   "cell_type": "code",
   "execution_count": 80,
   "metadata": {
    "collapsed": false
   },
   "outputs": [],
   "source": [
    "def telefon_kozpont(korzet,adatok):\n",
    "    \"Ha megadod a körzetszámot (korzet) akkor kiírom ki lakik ott.\"\n",
    "    #\n",
    "    a = 0\n",
    "    for elem in adatok:\n",
    "        if str(korzet) in adatok[elem][1:4]:\n",
    "            a= a+1\n",
    "            print elem\n",
    "    #\n",
    "    return a"
   ]
  },
  {
   "cell_type": "code",
   "execution_count": 81,
   "metadata": {
    "collapsed": false
   },
   "outputs": [
    {
     "name": "stdout",
     "output_type": "stream",
     "text": [
      "Alonzo Hinton\n",
      "Esther Leeson\n"
     ]
    },
    {
     "data": {
      "text/plain": [
       "2"
      ]
     },
     "execution_count": 81,
     "metadata": {},
     "output_type": "execute_result"
    }
   ],
   "source": [
    "telefon_kozpont(855, adatok)"
   ]
  },
  {
   "cell_type": "code",
   "execution_count": null,
   "metadata": {
    "collapsed": true
   },
   "outputs": [],
   "source": []
  }
 ],
 "metadata": {
  "anaconda-cloud": {},
  "hide_input": false,
  "kernelspec": {
   "display_name": "Python [conda env:py35]",
   "language": "python",
   "name": "conda-env-py35-py"
  },
  "language_info": {
   "codemirror_mode": {
    "name": "ipython",
    "version": 3
   },
   "file_extension": ".py",
   "mimetype": "text/x-python",
   "name": "python",
   "nbconvert_exporter": "python",
   "pygments_lexer": "ipython3",
   "version": "3.5.1"
  },
  "toc": {
   "toc_cell": false,
   "toc_number_sections": true,
   "toc_threshold": 6,
   "toc_window_display": false
  }
 },
 "nbformat": 4,
 "nbformat_minor": 0
}
