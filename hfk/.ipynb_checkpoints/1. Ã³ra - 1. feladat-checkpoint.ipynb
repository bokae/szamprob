{
 "cells": [
  {
   "cell_type": "markdown",
   "metadata": {},
   "source": [
    "## Mit csináltam nyáron?\n",
    "\n",
    "- A nyáron **sok** fagyit ettem.\n",
    "- A nyáron *keveset* strandoltam.\n",
    "- A nyáron ~~sokat~~ bicikliztem.\n",
    "\n",
    "## Átlagos alvás mennyiség táblázat:\n",
    "\n",
    "---------------------\n",
    "|**Hónap**|**Alvás**|\n",
    "|---------|---------|\n",
    "|Június   | kevés   |\n",
    "|Július   | kevés   |\n",
    "|Augusztus| kevés   |\n",
    "---------------------\n",
    "\n",
    "\n",
    "## Kép a wikipédiából:\n",
    "\n",
    "![Doge](https://pbs.twimg.com/profile_images/378800000822867536/3f5a00acf72df93528b6bb7cd0a4fd0c.jpeg)\n",
    "\n",
    "\n"
   ]
  },
  {
   "cell_type": "code",
   "execution_count": null,
   "metadata": {
    "collapsed": true
   },
   "outputs": [],
   "source": []
  },
  {
   "cell_type": "code",
   "execution_count": null,
   "metadata": {
    "collapsed": true
   },
   "outputs": [],
   "source": []
  }
 ],
 "metadata": {
  "anaconda-cloud": {},
  "hide_input": false,
  "kernelspec": {
   "display_name": "Python [conda env:py35]",
   "language": "python",
   "name": "conda-env-py35-py"
  },
  "language_info": {
   "codemirror_mode": {
    "name": "ipython",
    "version": 3
   },
   "file_extension": ".py",
   "mimetype": "text/x-python",
   "name": "python",
   "nbconvert_exporter": "python",
   "pygments_lexer": "ipython3",
   "version": "3.5.1"
  },
  "toc": {
   "toc_cell": false,
   "toc_number_sections": true,
   "toc_threshold": 6,
   "toc_window_display": false
  }
 },
 "nbformat": 4,
 "nbformat_minor": 0
}
