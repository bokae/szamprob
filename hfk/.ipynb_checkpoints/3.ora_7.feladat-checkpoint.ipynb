{
 "cells": [
  {
   "cell_type": "code",
   "execution_count": 62,
   "metadata": {
    "collapsed": false
   },
   "outputs": [],
   "source": [
    "def fuggveny(x,*args,**kwargs):\n",
    "    \"Ha a kwargs nem rendelkezik másképp akkor kiértékelek egy polinomot\"\n",
    "    \n",
    "    fokszam = len(args) - 1\n",
    "    szum= 0\n",
    "    for i in range(fokszam + 1):\n",
    "        szum+=args[i] * x ** i\n",
    "    if kwargs.get('fajta') == 'inverz':\n",
    "        print 'fokszam=' + str(fokszam)\n",
    "        return 1.0 / szum\n",
    "    else:\n",
    "        print 'fokszam=' + str(fokszam)\n",
    "        return szum\n",
    "\n",
    "#fuggveny(3, -13, 11szum -5, 1, fajta = 'inverz')"
   ]
  },
  {
   "cell_type": "code",
   "execution_count": 65,
   "metadata": {
    "collapsed": false
   },
   "outputs": [
    {
     "name": "stdout",
     "output_type": "stream",
     "text": [
      "fokszam=1\n"
     ]
    },
    {
     "data": {
      "text/plain": [
       "0.5"
      ]
     },
     "execution_count": 65,
     "metadata": {},
     "output_type": "execute_result"
    }
   ],
   "source": [
    "fuggveny(1, 1,1, fajta= 'inverz')"
   ]
  },
  {
   "cell_type": "code",
   "execution_count": null,
   "metadata": {
    "collapsed": true
   },
   "outputs": [],
   "source": []
  }
 ],
 "metadata": {
  "anaconda-cloud": {},
  "hide_input": false,
  "kernelspec": {
   "display_name": "Python [default]",
   "language": "python",
   "name": "python2"
  },
  "language_info": {
   "codemirror_mode": {
    "name": "ipython",
    "version": 2
   },
   "file_extension": ".py",
   "mimetype": "text/x-python",
   "name": "python",
   "nbconvert_exporter": "python",
   "pygments_lexer": "ipython2",
   "version": "2.7.11"
  },
  "toc": {
   "toc_cell": false,
   "toc_number_sections": true,
   "toc_threshold": 6,
   "toc_window_display": false
  }
 },
 "nbformat": 4,
 "nbformat_minor": 0
}
