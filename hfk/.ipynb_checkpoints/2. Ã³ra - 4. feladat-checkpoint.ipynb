{
 "cells": [
  {
   "cell_type": "code",
   "execution_count": 48,
   "metadata": {
    "collapsed": true
   },
   "outputs": [],
   "source": [
    "kicsi=['al',9,'+',42.137,'szoveg',69,1j]"
   ]
  },
  {
   "cell_type": "markdown",
   "metadata": {},
   "source": [
    "range(-1, -7, -1)"
   ]
  },
  {
   "cell_type": "markdown",
   "metadata": {},
   "source": [
    "kicsi[range(-1, -7, -1)]m"
   ]
  },
  {
   "cell_type": "code",
   "execution_count": 49,
   "metadata": {
    "collapsed": false
   },
   "outputs": [],
   "source": [
    "kicsi.reverse()"
   ]
  },
  {
   "cell_type": "code",
   "execution_count": 50,
   "metadata": {
    "collapsed": false
   },
   "outputs": [
    {
     "data": {
      "text/plain": [
       "[[1j, 69, 'szoveg', 42.137, '+', 9, 'al'],\n",
       " [1j, 69, 'szoveg', 42.137, '+', 9, 'al'],\n",
       " [1j, 69, 'szoveg', 42.137, '+', 9, 'al']]"
      ]
     },
     "execution_count": 50,
     "metadata": {},
     "output_type": "execute_result"
    }
   ],
   "source": [
    "kicsi3 = []\n",
    "for a in range(3):\n",
    "    kicsi3.append(kicsi)\n",
    "kicsi3"
   ]
  },
  {
   "cell_type": "code",
   "execution_count": 81,
   "metadata": {
    "collapsed": false
   },
   "outputs": [
    {
     "data": {
      "text/plain": [
       "['al',\n",
       " 9,\n",
       " '+',\n",
       " 42.137,\n",
       " 'szoveg',\n",
       " 69,\n",
       " 1j,\n",
       " 'al',\n",
       " 9,\n",
       " '+',\n",
       " 42.137,\n",
       " 'szoveg',\n",
       " 69,\n",
       " 1j,\n",
       " 'al',\n",
       " 9,\n",
       " '+',\n",
       " 42.137,\n",
       " 'szoveg',\n",
       " 69,\n",
       " 1j]"
      ]
     },
     "execution_count": 81,
     "metadata": {},
     "output_type": "execute_result"
    }
   ],
   "source": [
    "kicsi3 = []\n",
    "for a in range(3):\n",
    "    kicsi3.extend(kicsi)\n",
    "kicsi3"
   ]
  },
  {
   "cell_type": "code",
   "execution_count": 85,
   "metadata": {
    "collapsed": false
   },
   "outputs": [
    {
     "data": {
      "text/plain": [
       "['al',\n",
       " 9,\n",
       " '+',\n",
       " 42.137,\n",
       " 'szoveg',\n",
       " 69,\n",
       " 1j,\n",
       " 'al',\n",
       " 9,\n",
       " '+',\n",
       " 42.137,\n",
       " 'szoveg',\n",
       " 69,\n",
       " 1j,\n",
       " 'al',\n",
       " 9,\n",
       " '+',\n",
       " 42.137,\n",
       " 'szoveg',\n",
       " 69,\n",
       " 1j]"
      ]
     },
     "execution_count": 85,
     "metadata": {},
     "output_type": "execute_result"
    }
   ],
   "source": [
    "kicsi3 =[]\n",
    "for a in range(3):\n",
    "    kicsi3+=kicsi\n",
    "kicsi3"
   ]
  },
  {
   "cell_type": "code",
   "execution_count": 51,
   "metadata": {
    "collapsed": false
   },
   "outputs": [
    {
     "data": {
      "text/plain": [
       "[1j,\n",
       " 69,\n",
       " 'szoveg',\n",
       " 42.137,\n",
       " '+',\n",
       " 9,\n",
       " 'al',\n",
       " 1j,\n",
       " 69,\n",
       " 'szoveg',\n",
       " 42.137,\n",
       " '+',\n",
       " 9,\n",
       " 'al',\n",
       " 1j,\n",
       " 69,\n",
       " 'szoveg',\n",
       " 42.137,\n",
       " '+',\n",
       " 9,\n",
       " 'al']"
      ]
     },
     "execution_count": 51,
     "metadata": {},
     "output_type": "execute_result"
    }
   ],
   "source": [
    "kicsi3 = []\n",
    "for a in range(3):\n",
    "    for elem in kicsi:\n",
    "        kicsi3.append(elem)\n",
    "kicsi3"
   ]
  },
  {
   "cell_type": "code",
   "execution_count": 86,
   "metadata": {
    "collapsed": false
   },
   "outputs": [
    {
     "data": {
      "text/plain": [
       "['al',\n",
       " 9,\n",
       " '+',\n",
       " 42.137,\n",
       " 'szoveg',\n",
       " 69,\n",
       " 1j,\n",
       " 'al',\n",
       " 9,\n",
       " '+',\n",
       " 42.137,\n",
       " 'szoveg',\n",
       " 69,\n",
       " 1j,\n",
       " 'al',\n",
       " 9,\n",
       " '+',\n",
       " 42.137,\n",
       " 'szoveg',\n",
       " 69,\n",
       " 1j]"
      ]
     },
     "execution_count": 86,
     "metadata": {},
     "output_type": "execute_result"
    }
   ],
   "source": [
    "3* kicsi"
   ]
  },
  {
   "cell_type": "code",
   "execution_count": 65,
   "metadata": {
    "collapsed": false
   },
   "outputs": [
    {
     "data": {
      "text/plain": [
       "[1j, 69, 'szoveg', 42.137, '+', 9, 'al']"
      ]
     },
     "execution_count": 65,
     "metadata": {},
     "output_type": "execute_result"
    }
   ],
   "source": [
    "kicsi"
   ]
  },
  {
   "cell_type": "code",
   "execution_count": 67,
   "metadata": {
    "collapsed": false
   },
   "outputs": [],
   "source": [
    "kicsi.reverse()"
   ]
  },
  {
   "cell_type": "code",
   "execution_count": 79,
   "metadata": {
    "collapsed": false
   },
   "outputs": [],
   "source": [
    "ki = []\n",
    "ki.append(kicsi[0:6] + kicsi)"
   ]
  },
  {
   "cell_type": "code",
   "execution_count": 80,
   "metadata": {
    "collapsed": false
   },
   "outputs": [
    {
     "data": {
      "text/plain": [
       "[['al', 9, '+', 42.137, 'szoveg', 69, 'al', 9, '+', 42.137, 'szoveg', 69, 1j]]"
      ]
     },
     "execution_count": 80,
     "metadata": {},
     "output_type": "execute_result"
    }
   ],
   "source": [
    "ki"
   ]
  },
  {
   "cell_type": "code",
   "execution_count": null,
   "metadata": {
    "collapsed": true
   },
   "outputs": [],
   "source": []
  }
 ],
 "metadata": {
  "anaconda-cloud": {},
  "hide_input": false,
  "kernelspec": {
   "display_name": "Python [conda env:py35]",
   "language": "python",
   "name": "conda-env-py35-py"
  },
  "language_info": {
   "codemirror_mode": {
    "name": "ipython",
    "version": 3
   },
   "file_extension": ".py",
   "mimetype": "text/x-python",
   "name": "python",
   "nbconvert_exporter": "python",
   "pygments_lexer": "ipython3",
   "version": "3.5.1"
  },
  "toc": {
   "toc_cell": false,
   "toc_number_sections": true,
   "toc_threshold": 6,
   "toc_window_display": false
  }
 },
 "nbformat": 4,
 "nbformat_minor": 0
}
