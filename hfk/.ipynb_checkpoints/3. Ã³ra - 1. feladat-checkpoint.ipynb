{
 "cells": [
  {
   "cell_type": "code",
   "execution_count": 5,
   "metadata": {
    "collapsed": false
   },
   "outputs": [
    {
     "name": "stdout",
     "output_type": "stream",
     "text": [
      "alszik\n"
     ]
    }
   ],
   "source": [
    "hetkoznap = ['hetfo','kedd','szerda','csutortok','pentek']\n",
    "hetvege = ['szombat','vasarnap']\n",
    "\n",
    "nap='kedd'   \n",
    "ora=20   \n",
    "fiulany='fiu'\n",
    "\n",
    "\n",
    "if fiulany == 'lany':\n",
    "    \n",
    "    if nap in hetkoznap:\n",
    "        if ora < 13 and ora > 7:\n",
    "            print 'tanul'\n",
    "        elif ora > 12 and ora < 16:\n",
    "            print 'focizik'\n",
    "        elif ora > 15 and ora <20:\n",
    "            print 'golyózik'\n",
    "        else:\n",
    "            print 'alszik'\n",
    "  \n",
    "    elif ora < 20 and ora > 8:\n",
    "            if nap == 'szombat':\n",
    "                print 'hegyek'\n",
    "            else:\n",
    "                print 'tenger'\n",
    "else:\n",
    "    if nap in hetkoznap:\n",
    "        if ora < 13 and ora > 7:\n",
    "            print 'tanul'\n",
    "        elif ora > 12 and ora < 14:\n",
    "            print 'babázik'\n",
    "        elif ora > 14 and ora <16:\n",
    "            print 'teázik'\n",
    "        elif ora > 15 and ora <20:\n",
    "            print 'babázik'\n",
    "        else:\n",
    "            print 'alszik'\n",
    "  \n",
    "    elif ora < 20 and ora > 8:\n",
    "            if nap == 'szombat':\n",
    "                print 'tenger'\n",
    "            else:\n",
    "                print 'hegyek'"
   ]
  },
  {
   "cell_type": "code",
   "execution_count": null,
   "metadata": {
    "collapsed": true
   },
   "outputs": [],
   "source": []
  }
 ],
 "metadata": {
  "hide_input": false,
  "kernelspec": {
   "display_name": "Python [conda env:py35]",
   "language": "python",
   "name": "conda-env-py35-py"
  },
  "language_info": {
   "codemirror_mode": {
    "name": "ipython",
    "version": 3
   },
   "file_extension": ".py",
   "mimetype": "text/x-python",
   "name": "python",
   "nbconvert_exporter": "python",
   "pygments_lexer": "ipython3",
   "version": "3.5.1"
  },
  "toc": {
   "toc_cell": false,
   "toc_number_sections": true,
   "toc_threshold": 6,
   "toc_window_display": false
  }
 },
 "nbformat": 4,
 "nbformat_minor": 0
}
