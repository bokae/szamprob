{
 "cells": [
  {
   "cell_type": "markdown",
   "metadata": {
    "collapsed": true
   },
   "source": [
    "$$ J_\\nu(z)= \\sqrt{2/(\\pi\\ z)} \\{P(\\nu,\\ z)\\ \\cos\\chi-Q(\\nu,\\ z)\\ \\sin\\chi\\} \\\\ (|\\arg\\ z|<\\pi)$$"
   ]
  },
  {
   "cell_type": "markdown",
   "metadata": {},
   "source": [
    "## 19.9.5"
   ]
  },
  {
   "cell_type": "markdown",
   "metadata": {
    "collapsed": true
   },
   "source": [
    "\n",
    "$$v_r\\sim+\\frac{(\\frac{1}{2}x)^2}{(2p)^2}+\\frac{2 (\\frac{1}{2}x)^4}{(2p)^4}-\\frac{9(\\frac{1}{2}x)^2-\\frac {16}{3}(\\frac{1}{2}x)^6}{(2p)^6}-\\dots \\\\ v_i\\sim-\\frac{\\frac{2}{3}(\\frac{1}{2}x)^3}{2p}+\\frac{\\frac{1}{2}x+\\frac{2}{5}(\\frac{1}{2}x)^5}{(2p)^3}+\\frac{\\frac{16}{3}(\\frac{1}{2}x)^3-\\frac{4}{7}(\\frac{1}{2}x)^7}{(2p)^5}-\\dots \\\\ (a\\to-\\infty)$$ "
   ]
  },
  {
   "cell_type": "code",
   "execution_count": null,
   "metadata": {
    "collapsed": true
   },
   "outputs": [],
   "source": []
  }
 ],
 "metadata": {
  "anaconda-cloud": {},
  "hide_input": false,
  "kernelspec": {
   "display_name": "Python [Root]",
   "language": "python",
   "name": "Python [Root]"
  },
  "language_info": {
   "codemirror_mode": {
    "name": "ipython",
    "version": 2
   },
   "file_extension": ".py",
   "mimetype": "text/x-python",
   "name": "python",
   "nbconvert_exporter": "python",
   "pygments_lexer": "ipython2",
   "version": "2.7.12"
  }
 },
 "nbformat": 4,
 "nbformat_minor": 0
}
