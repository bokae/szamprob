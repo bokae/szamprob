{
 "cells": [
  {
   "cell_type": "code",
   "execution_count": 1,
   "metadata": {
    "collapsed": true
   },
   "outputs": [],
   "source": [
    "telefon_konyv={'Alonzo Hinton': '(855) 278-2590',\n",
    " 'Cleo Hennings': '(844) 832-0585',\n",
    " 'Daine Ventura': '(833) 832-5081',\n",
    " 'Esther Leeson': '(855) 485-0624',\n",
    " 'Gene Connell': '(811) 973-2926',\n",
    " 'Lashaun Bottorff': '(822) 687-1735',\n",
    " 'Marx Hermann': '(844) 164-8116',\n",
    " 'Nicky Duprey': '(811) 032-6328',\n",
    " 'Piper Subia': '(844) 373-4228',\n",
    " 'Zackary Palomares': '(822) 647-3686'}"
   ]
  },
  {
   "cell_type": "code",
   "execution_count": 14,
   "metadata": {
    "collapsed": false
   },
   "outputs": [],
   "source": [
    "telefon_konyv['Samwise Gamgie']='(123) 000-1423'"
   ]
  },
  {
   "cell_type": "code",
   "execution_count": 15,
   "metadata": {
    "collapsed": false
   },
   "outputs": [
    {
     "data": {
      "text/plain": [
       "{'Alonzo Hinton': '(855) 278-2590',\n",
       " 'Cleo Hennings': '(844) 832-0585',\n",
       " 'Daine Ventura': '(833) 832-5081',\n",
       " 'Esther Leeson': '(855) 485-0624',\n",
       " 'Gene Connell': '(811) 973-2926',\n",
       " 'Lashaun Bottorff': '(822) 687-1735',\n",
       " 'Marx Hermann': '(844) 164-8116',\n",
       " 'Nicky Duprey': '(811) 032-6328',\n",
       " 'Piper Subia': '(844) 373-4228',\n",
       " 'Samwise Gamgie': '(123) 000-1423',\n",
       " 'Zackary Palomares': '(822) 647-3686'}"
      ]
     },
     "execution_count": 15,
     "metadata": {},
     "output_type": "execute_result"
    }
   ],
   "source": [
    "telefon_konyv"
   ]
  },
  {
   "cell_type": "code",
   "execution_count": 19,
   "metadata": {
    "collapsed": false
   },
   "outputs": [
    {
     "data": {
      "text/plain": [
       "['(811) 973-2926',\n",
       " '(833) 832-5081',\n",
       " '(855) 278-2590',\n",
       " '(844) 832-0585',\n",
       " '(822) 687-1735',\n",
       " '(844) 373-4228',\n",
       " '(123) 000-1423',\n",
       " '(855) 485-0624',\n",
       " '(822) 647-3686',\n",
       " '(844) 164-8116',\n",
       " '(811) 032-6328']"
      ]
     },
     "execution_count": 19,
     "metadata": {},
     "output_type": "execute_result"
    }
   ],
   "source": [
    "telefon_konyv.values()"
   ]
  },
  {
   "cell_type": "code",
   "execution_count": null,
   "metadata": {
    "collapsed": true
   },
   "outputs": [],
   "source": []
  }
 ],
 "metadata": {
  "anaconda-cloud": {},
  "hide_input": false,
  "kernelspec": {
   "display_name": "Python [conda env:py35]",
   "language": "python",
   "name": "conda-env-py35-py"
  },
  "language_info": {
   "codemirror_mode": {
    "name": "ipython",
    "version": 3
   },
   "file_extension": ".py",
   "mimetype": "text/x-python",
   "name": "python",
   "nbconvert_exporter": "python",
   "pygments_lexer": "ipython3",
   "version": "3.5.1"
  },
  "toc": {
   "toc_cell": false,
   "toc_number_sections": true,
   "toc_threshold": 6,
   "toc_window_display": false
  }
 },
 "nbformat": 4,
 "nbformat_minor": 0
}
