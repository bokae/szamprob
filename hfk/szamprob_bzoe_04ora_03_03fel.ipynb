{
 "cells": [
  {
   "cell_type": "markdown",
   "metadata": {},
   "source": [
    "# Számítógépes Problémamegoldás Jupyter Notebook (Python 3)\n",
    "\n",
    "### Baumgartner Zoé Eszter - WWNEAK"
   ]
  },
  {
   "cell_type": "markdown",
   "metadata": {},
   "source": [
    "## 4. óra [2016. 10. 03.]\n",
    "### Feladat 03"
   ]
  },
  {
   "cell_type": "markdown",
   "metadata": {},
   "source": [
    "#### 03 - Kétindexes array"
   ]
  },
  {
   "cell_type": "code",
   "execution_count": 1,
   "metadata": {
    "collapsed": false
   },
   "outputs": [
    {
     "name": "stdout",
     "output_type": "stream",
     "text": [
      "Populating the interactive namespace from numpy and matplotlib\n"
     ]
    }
   ],
   "source": [
    "%pylab inline"
   ]
  },
  {
   "cell_type": "code",
   "execution_count": 2,
   "metadata": {
    "collapsed": false
   },
   "outputs": [
    {
     "data": {
      "text/plain": [
       "array([[8, 5, 8, 1, 7, 8, 6, 6, 8, 7],\n",
       "       [6, 4, 5, 3, 0, 2, 6, 7, 4, 8],\n",
       "       [1, 0, 0, 8, 5, 1, 1, 0, 7, 7],\n",
       "       [0, 3, 5, 5, 6, 6, 3, 3, 5, 8],\n",
       "       [0, 5, 0, 0, 2, 7, 0, 7, 1, 8],\n",
       "       [1, 4, 8, 3, 1, 7, 4, 2, 8, 6],\n",
       "       [7, 8, 7, 7, 2, 5, 7, 1, 6, 1],\n",
       "       [2, 2, 7, 2, 0, 5, 2, 5, 5, 6],\n",
       "       [6, 7, 4, 2, 6, 7, 5, 7, 8, 0],\n",
       "       [4, 4, 6, 2, 4, 3, 2, 2, 5, 0]])"
      ]
     },
     "execution_count": 2,
     "metadata": {},
     "output_type": "execute_result"
    }
   ],
   "source": [
    "B=randint(0,9,(10,10))\n",
    "B"
   ]
  },
  {
   "cell_type": "markdown",
   "metadata": {},
   "source": [
    "1. Írasd ki a B array bal alsó 5x7-es almátrixát!"
   ]
  },
  {
   "cell_type": "code",
   "execution_count": 23,
   "metadata": {
    "collapsed": false
   },
   "outputs": [
    {
     "data": {
      "text/plain": [
       "array([[1, 4, 8, 3, 1, 7, 4],\n",
       "       [7, 8, 7, 7, 2, 5, 7],\n",
       "       [2, 2, 7, 2, 0, 5, 2],\n",
       "       [6, 7, 4, 2, 6, 7, 5],\n",
       "       [4, 4, 6, 2, 4, 3, 2]])"
      ]
     },
     "execution_count": 23,
     "metadata": {},
     "output_type": "execute_result"
    }
   ],
   "source": [
    "B[5:,:7]"
   ]
  },
  {
   "cell_type": "markdown",
   "metadata": {},
   "source": [
    "2. Írass ki minden második elemet a B array második sorából!"
   ]
  },
  {
   "cell_type": "code",
   "execution_count": 39,
   "metadata": {
    "collapsed": false
   },
   "outputs": [
    {
     "data": {
      "text/plain": [
       "array([4, 3, 2, 7, 8])"
      ]
     },
     "execution_count": 39,
     "metadata": {},
     "output_type": "execute_result"
    }
   ],
   "source": [
    "B[1, 1::2]"
   ]
  },
  {
   "cell_type": "markdown",
   "metadata": {},
   "source": [
    "3. Írass ki minden háromnál nagyobb elemet a B array 7. oszlopábol!"
   ]
  },
  {
   "cell_type": "code",
   "execution_count": 55,
   "metadata": {
    "collapsed": false
   },
   "outputs": [],
   "source": [
    "B2 = B[:,6]"
   ]
  },
  {
   "cell_type": "code",
   "execution_count": 57,
   "metadata": {
    "collapsed": false
   },
   "outputs": [
    {
     "data": {
      "text/plain": [
       "array([6, 6, 4, 7, 5])"
      ]
     },
     "execution_count": 57,
     "metadata": {},
     "output_type": "execute_result"
    }
   ],
   "source": [
    "B2[B2>3]"
   ]
  },
  {
   "cell_type": "markdown",
   "metadata": {},
   "source": [
    "4. Írasd ki azokat az elemeket a B array 3. oszlopából, amelyeknek a sorában a 4. oszlopban 5-nél kisebb elem áll!"
   ]
  },
  {
   "cell_type": "code",
   "execution_count": 71,
   "metadata": {
    "collapsed": false
   },
   "outputs": [],
   "source": [
    "B3 = B[:,3] # 4. oszlop"
   ]
  },
  {
   "cell_type": "code",
   "execution_count": 76,
   "metadata": {
    "collapsed": false
   },
   "outputs": [],
   "source": [
    "B3_1 = B[:,2] # 3. oszlop"
   ]
  },
  {
   "cell_type": "code",
   "execution_count": 77,
   "metadata": {
    "collapsed": false
   },
   "outputs": [
    {
     "data": {
      "text/plain": [
       "array([8, 5, 0, 8, 7, 4, 6])"
      ]
     },
     "execution_count": 77,
     "metadata": {},
     "output_type": "execute_result"
    }
   ],
   "source": [
    "B3_1[B3<5]"
   ]
  }
 ],
 "metadata": {
  "kernelspec": {
   "display_name": "Python 3",
   "language": "python",
   "name": "python3"
  },
  "language_info": {
   "codemirror_mode": {
    "name": "ipython",
    "version": 3
   },
   "file_extension": ".py",
   "mimetype": "text/x-python",
   "name": "python",
   "nbconvert_exporter": "python",
   "pygments_lexer": "ipython3",
   "version": "3.5.1"
  }
 },
 "nbformat": 4,
 "nbformat_minor": 0
}
