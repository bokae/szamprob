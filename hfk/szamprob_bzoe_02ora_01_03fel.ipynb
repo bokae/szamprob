{
 "cells": [
  {
   "cell_type": "markdown",
   "metadata": {},
   "source": [
    "# Számítógépes Problémamegoldás Jupyter Notebook (Python 3)\n",
    "\n",
    "### Baumgartner Zoé Eszter - WWNEAK"
   ]
  },
  {
   "cell_type": "markdown",
   "metadata": {},
   "source": [
    "## 2. óra [2016. 09. 19.]\n",
    "### Feladat 01"
   ]
  },
  {
   "cell_type": "markdown",
   "metadata": {},
   "source": [
    "#### 03 - Karakterláncok és indexelés"
   ]
  },
  {
   "cell_type": "code",
   "execution_count": 1,
   "metadata": {
    "collapsed": true
   },
   "outputs": [],
   "source": [
    "kisbetuk='qwertzuiopasdfghjklyxcvbnm'\n",
    "nagybetuk='QWERTZUIOPASDFGHJKLYXCVBNM'\n",
    "extra='+- %=.~'"
   ]
  },
  {
   "cell_type": "code",
   "execution_count": 19,
   "metadata": {
    "collapsed": false
   },
   "outputs": [
    {
     "data": {
      "text/plain": [
       "'Baumgartner Zoe Eszter'"
      ]
     },
     "execution_count": 19,
     "metadata": {},
     "output_type": "execute_result"
    }
   ],
   "source": [
    "nagybetuk[-3]+kisbetuk[10]+kisbetuk[6]+kisbetuk[-1]+kisbetuk[-12]+kisbetuk[10]+kisbetuk[3]+kisbetuk[4]+kisbetuk[-2]\\\n",
    "+kisbetuk[2]+kisbetuk[3]+extra[2]+nagybetuk[5]+kisbetuk[8]+kisbetuk[2]+extra[2]+nagybetuk[2]+kisbetuk[11]\\\n",
    "+kisbetuk[5]+kisbetuk[4]+kisbetuk[2]+kisbetuk[3]"
   ]
  }
 ],
 "metadata": {
  "anaconda-cloud": {},
  "hide_input": false,
  "kernelspec": {
   "display_name": "Python [conda env:py35]",
   "language": "python",
   "name": "conda-env-py35-py"
  },
  "language_info": {
   "codemirror_mode": {
    "name": "ipython",
    "version": 3
   },
   "file_extension": ".py",
   "mimetype": "text/x-python",
   "name": "python",
   "nbconvert_exporter": "python",
   "pygments_lexer": "ipython3",
   "version": "3.5.1"
  },
  "toc": {
   "toc_cell": false,
   "toc_number_sections": true,
   "toc_threshold": 6,
   "toc_window_display": false
  }
 },
 "nbformat": 4,
 "nbformat_minor": 0
}
