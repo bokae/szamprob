{
 "cells": [
  {
   "cell_type": "code",
   "execution_count": 2,
   "metadata": {
    "collapsed": false
   },
   "outputs": [],
   "source": [
    "def mertani(x0,q=0.5,N=10):\n",
    "\n",
    "    \"x0 = kezdőszám, q=kvóciens, N=meddig szorozzon \" # ide jön a docstring\n",
    "\n",
    "    \n",
    "    # ide jön a varázslat..\n",
    "    \n",
    "    l = [x0]\n",
    "    for a in range(N):\n",
    "        \n",
    "        x0 = x0*q\n",
    "        l.append(x0)\n",
    "    #\n",
    "    return l"
   ]
  },
  {
   "cell_type": "code",
   "execution_count": 4,
   "metadata": {
    "collapsed": false
   },
   "outputs": [
    {
     "data": {
      "text/plain": [
       "[1,\n",
       " 12,\n",
       " 144,\n",
       " 1728,\n",
       " 20736,\n",
       " 248832,\n",
       " 2985984,\n",
       " 35831808,\n",
       " 429981696,\n",
       " 5159780352,\n",
       " 61917364224]"
      ]
     },
     "execution_count": 4,
     "metadata": {},
     "output_type": "execute_result"
    }
   ],
   "source": [
    "mertani(1,12)"
   ]
  },
  {
   "cell_type": "code",
   "execution_count": null,
   "metadata": {
    "collapsed": true
   },
   "outputs": [],
   "source": []
  }
 ],
 "metadata": {
  "kernelspec": {
   "display_name": "Python [Root]",
   "language": "python",
   "name": "Python [Root]"
  },
  "language_info": {
   "codemirror_mode": {
    "name": "ipython",
    "version": 2
   },
   "file_extension": ".py",
   "mimetype": "text/x-python",
   "name": "python",
   "nbconvert_exporter": "python",
   "pygments_lexer": "ipython2",
   "version": "2.7.12"
  }
 },
 "nbformat": 4,
 "nbformat_minor": 0
}
